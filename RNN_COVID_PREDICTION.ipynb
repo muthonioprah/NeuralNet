{
  "cells": [
    {
      "cell_type": "markdown",
      "metadata": {
        "id": "view-in-github",
        "colab_type": "text"
      },
      "source": [
        "<a href=\"https://colab.research.google.com/github/muthonioprah/NeuralNet/blob/main/RNN_COVID_PREDICTION.ipynb\" target=\"_parent\"><img src=\"https://colab.research.google.com/assets/colab-badge.svg\" alt=\"Open In Colab\"/></a>"
      ]
    },
    {
      "cell_type": "markdown",
      "metadata": {
        "id": "Z4vzaoMdHVQ5"
      },
      "source": [
        "# COVID PREDICTION"
      ]
    },
    {
      "cell_type": "markdown",
      "metadata": {
        "id": "K4WiFNN0HjZM"
      },
      "source": [
        "## 1. Defining the Question"
      ]
    },
    {
      "cell_type": "markdown",
      "metadata": {
        "id": "ADAI5eXmMT0j"
      },
      "source": [
        "## a) Specifying the Question\n",
        "Our aim is to build a model that can predict whether one has COVID19 based on the symptoms they show."
      ]
    },
    {
      "cell_type": "markdown",
      "metadata": {
        "id": "bGyPCsY1MuJh"
      },
      "source": [
        "## b) Defining the Metric for Success\n",
        "The accuracy and recall of our model should exceed 75%. A recall of above 75% will be needed so as not to have many false negatives."
      ]
    },
    {
      "cell_type": "markdown",
      "metadata": {
        "id": "5OQpi8v2M2fk"
      },
      "source": [
        "## c) Understanding the context\n",
        "Coronavirus disease (COVID-19) is an infectious disease caused by the SARS-CoV-2 virus.\n",
        "Most people who fall sick with COVID-19 will experience mild to moderate symptoms and recover without special treatment. However, some will become seriously ill and require medical attention.\n",
        "\n",
        "HOW IT SPREADS\n",
        "\n",
        "The virus can spread from an infected person’s mouth or nose in small liquid particles when they cough, sneeze, speak, sing or breathe.\n",
        "\n",
        "The severity of COVID-19 symptoms can range from very mild to severe. Some people may have only a few symptoms. Some people may have no symptoms at all, but can still spread it (asymptomatic transmission). "
      ]
    },
    {
      "cell_type": "markdown",
      "metadata": {
        "id": "uw3y_mJwN08d"
      },
      "source": [
        "# 2. Reading the Data\n"
      ]
    },
    {
      "cell_type": "code",
      "execution_count": null,
      "metadata": {
        "id": "ouYjibwMMTb9"
      },
      "outputs": [],
      "source": [
        "# Importing the required libraries\n",
        "# For data analysis\n",
        "import pandas as pd\n",
        "import numpy as np\n",
        "import seaborn as sns\n",
        "\n",
        "# For creating visualizations\n",
        "import seaborn as sns\n",
        "import matplotlib.pyplot as plt\n",
        "import scipy.stats as stats\n",
        "from sklearn.tree import export_graphviz\n",
        "from io import StringIO\n",
        "from IPython.display import Image  \n",
        "import pydotplus\n",
        "\n",
        "# For Preprocessing\n",
        "from sklearn.preprocessing import StandardScaler, LabelEncoder\n",
        "\n",
        "# For multivariate analysis\n",
        "from sklearn.discriminant_analysis import LinearDiscriminantAnalysis as LDA\n",
        "\n",
        "# for creating models \n",
        "from sklearn.model_selection import train_test_split, GridSearchCV, RandomizedSearchCV, KFold, cross_val_score\n",
        "\n",
        "# Tensorflow Imports\n",
        "import tensorflow as tf  # Importing the TensorFlow Library\n",
        "from tensorflow import keras  # Import Keras from TensorFlow\n",
        "\n",
        "from tensorflow.keras import Sequential \n",
        "from tensorflow.keras import layers\n",
        "from tensorflow.keras.layers import Dense\n",
        "\n",
        "from sklearn.metrics import accuracy_score, confusion_matrix, classification_report, f1_score\n",
        "# For prevention of warning messages\n",
        "import warnings\n",
        "warnings.filterwarnings(action = 'ignore')\n",
        "\n",
        "# Reading the dataset \n",
        "df = pd.read_csv('/content/covid.csv')"
      ]
    },
    {
      "cell_type": "code",
      "execution_count": null,
      "metadata": {
        "colab": {
          "base_uri": "https://localhost:8080/",
          "height": 356
        },
        "id": "sGkkaQdhHLAS",
        "outputId": "d81af3fc-b342-42a8-875c-d0a19503e911"
      },
      "outputs": [
        {
          "output_type": "execute_result",
          "data": {
            "text/plain": [
              "    test_date  cough  fever  sore_throat  shortness_of_breath  head_ache  \\\n",
              "0  2020-11-12      0      0            0                    0          0   \n",
              "1  2020-11-12      0      1            0                    0          0   \n",
              "2  2020-11-12      0      0            0                    0          0   \n",
              "3  2020-11-12      0      0            0                    0          0   \n",
              "4  2020-11-12      0      1            0                    0          0   \n",
              "\n",
              "  corona_result age_60_and_above  gender         test_indication  \n",
              "0      negative               No    male                   Other  \n",
              "1      negative               No    male                   Other  \n",
              "2      negative              Yes  female                   Other  \n",
              "3      negative               No    male                   Other  \n",
              "4      negative               No    male  Contact with confirmed  "
            ],
            "text/html": [
              "\n",
              "  <div id=\"df-a9331c80-d82f-4331-8301-c50260eb6f99\">\n",
              "    <div class=\"colab-df-container\">\n",
              "      <div>\n",
              "<style scoped>\n",
              "    .dataframe tbody tr th:only-of-type {\n",
              "        vertical-align: middle;\n",
              "    }\n",
              "\n",
              "    .dataframe tbody tr th {\n",
              "        vertical-align: top;\n",
              "    }\n",
              "\n",
              "    .dataframe thead th {\n",
              "        text-align: right;\n",
              "    }\n",
              "</style>\n",
              "<table border=\"1\" class=\"dataframe\">\n",
              "  <thead>\n",
              "    <tr style=\"text-align: right;\">\n",
              "      <th></th>\n",
              "      <th>test_date</th>\n",
              "      <th>cough</th>\n",
              "      <th>fever</th>\n",
              "      <th>sore_throat</th>\n",
              "      <th>shortness_of_breath</th>\n",
              "      <th>head_ache</th>\n",
              "      <th>corona_result</th>\n",
              "      <th>age_60_and_above</th>\n",
              "      <th>gender</th>\n",
              "      <th>test_indication</th>\n",
              "    </tr>\n",
              "  </thead>\n",
              "  <tbody>\n",
              "    <tr>\n",
              "      <th>0</th>\n",
              "      <td>2020-11-12</td>\n",
              "      <td>0</td>\n",
              "      <td>0</td>\n",
              "      <td>0</td>\n",
              "      <td>0</td>\n",
              "      <td>0</td>\n",
              "      <td>negative</td>\n",
              "      <td>No</td>\n",
              "      <td>male</td>\n",
              "      <td>Other</td>\n",
              "    </tr>\n",
              "    <tr>\n",
              "      <th>1</th>\n",
              "      <td>2020-11-12</td>\n",
              "      <td>0</td>\n",
              "      <td>1</td>\n",
              "      <td>0</td>\n",
              "      <td>0</td>\n",
              "      <td>0</td>\n",
              "      <td>negative</td>\n",
              "      <td>No</td>\n",
              "      <td>male</td>\n",
              "      <td>Other</td>\n",
              "    </tr>\n",
              "    <tr>\n",
              "      <th>2</th>\n",
              "      <td>2020-11-12</td>\n",
              "      <td>0</td>\n",
              "      <td>0</td>\n",
              "      <td>0</td>\n",
              "      <td>0</td>\n",
              "      <td>0</td>\n",
              "      <td>negative</td>\n",
              "      <td>Yes</td>\n",
              "      <td>female</td>\n",
              "      <td>Other</td>\n",
              "    </tr>\n",
              "    <tr>\n",
              "      <th>3</th>\n",
              "      <td>2020-11-12</td>\n",
              "      <td>0</td>\n",
              "      <td>0</td>\n",
              "      <td>0</td>\n",
              "      <td>0</td>\n",
              "      <td>0</td>\n",
              "      <td>negative</td>\n",
              "      <td>No</td>\n",
              "      <td>male</td>\n",
              "      <td>Other</td>\n",
              "    </tr>\n",
              "    <tr>\n",
              "      <th>4</th>\n",
              "      <td>2020-11-12</td>\n",
              "      <td>0</td>\n",
              "      <td>1</td>\n",
              "      <td>0</td>\n",
              "      <td>0</td>\n",
              "      <td>0</td>\n",
              "      <td>negative</td>\n",
              "      <td>No</td>\n",
              "      <td>male</td>\n",
              "      <td>Contact with confirmed</td>\n",
              "    </tr>\n",
              "  </tbody>\n",
              "</table>\n",
              "</div>\n",
              "      <button class=\"colab-df-convert\" onclick=\"convertToInteractive('df-a9331c80-d82f-4331-8301-c50260eb6f99')\"\n",
              "              title=\"Convert this dataframe to an interactive table.\"\n",
              "              style=\"display:none;\">\n",
              "        \n",
              "  <svg xmlns=\"http://www.w3.org/2000/svg\" height=\"24px\"viewBox=\"0 0 24 24\"\n",
              "       width=\"24px\">\n",
              "    <path d=\"M0 0h24v24H0V0z\" fill=\"none\"/>\n",
              "    <path d=\"M18.56 5.44l.94 2.06.94-2.06 2.06-.94-2.06-.94-.94-2.06-.94 2.06-2.06.94zm-11 1L8.5 8.5l.94-2.06 2.06-.94-2.06-.94L8.5 2.5l-.94 2.06-2.06.94zm10 10l.94 2.06.94-2.06 2.06-.94-2.06-.94-.94-2.06-.94 2.06-2.06.94z\"/><path d=\"M17.41 7.96l-1.37-1.37c-.4-.4-.92-.59-1.43-.59-.52 0-1.04.2-1.43.59L10.3 9.45l-7.72 7.72c-.78.78-.78 2.05 0 2.83L4 21.41c.39.39.9.59 1.41.59.51 0 1.02-.2 1.41-.59l7.78-7.78 2.81-2.81c.8-.78.8-2.07 0-2.86zM5.41 20L4 18.59l7.72-7.72 1.47 1.35L5.41 20z\"/>\n",
              "  </svg>\n",
              "      </button>\n",
              "      \n",
              "  <style>\n",
              "    .colab-df-container {\n",
              "      display:flex;\n",
              "      flex-wrap:wrap;\n",
              "      gap: 12px;\n",
              "    }\n",
              "\n",
              "    .colab-df-convert {\n",
              "      background-color: #E8F0FE;\n",
              "      border: none;\n",
              "      border-radius: 50%;\n",
              "      cursor: pointer;\n",
              "      display: none;\n",
              "      fill: #1967D2;\n",
              "      height: 32px;\n",
              "      padding: 0 0 0 0;\n",
              "      width: 32px;\n",
              "    }\n",
              "\n",
              "    .colab-df-convert:hover {\n",
              "      background-color: #E2EBFA;\n",
              "      box-shadow: 0px 1px 2px rgba(60, 64, 67, 0.3), 0px 1px 3px 1px rgba(60, 64, 67, 0.15);\n",
              "      fill: #174EA6;\n",
              "    }\n",
              "\n",
              "    [theme=dark] .colab-df-convert {\n",
              "      background-color: #3B4455;\n",
              "      fill: #D2E3FC;\n",
              "    }\n",
              "\n",
              "    [theme=dark] .colab-df-convert:hover {\n",
              "      background-color: #434B5C;\n",
              "      box-shadow: 0px 1px 3px 1px rgba(0, 0, 0, 0.15);\n",
              "      filter: drop-shadow(0px 1px 2px rgba(0, 0, 0, 0.3));\n",
              "      fill: #FFFFFF;\n",
              "    }\n",
              "  </style>\n",
              "\n",
              "      <script>\n",
              "        const buttonEl =\n",
              "          document.querySelector('#df-a9331c80-d82f-4331-8301-c50260eb6f99 button.colab-df-convert');\n",
              "        buttonEl.style.display =\n",
              "          google.colab.kernel.accessAllowed ? 'block' : 'none';\n",
              "\n",
              "        async function convertToInteractive(key) {\n",
              "          const element = document.querySelector('#df-a9331c80-d82f-4331-8301-c50260eb6f99');\n",
              "          const dataTable =\n",
              "            await google.colab.kernel.invokeFunction('convertToInteractive',\n",
              "                                                     [key], {});\n",
              "          if (!dataTable) return;\n",
              "\n",
              "          const docLinkHtml = 'Like what you see? Visit the ' +\n",
              "            '<a target=\"_blank\" href=https://colab.research.google.com/notebooks/data_table.ipynb>data table notebook</a>'\n",
              "            + ' to learn more about interactive tables.';\n",
              "          element.innerHTML = '';\n",
              "          dataTable['output_type'] = 'display_data';\n",
              "          await google.colab.output.renderOutput(dataTable, element);\n",
              "          const docLink = document.createElement('div');\n",
              "          docLink.innerHTML = docLinkHtml;\n",
              "          element.appendChild(docLink);\n",
              "        }\n",
              "      </script>\n",
              "    </div>\n",
              "  </div>\n",
              "  "
            ]
          },
          "metadata": {},
          "execution_count": 3
        }
      ],
      "source": [
        "# Previewing the head of the dataset\n",
        "df.head()"
      ]
    },
    {
      "cell_type": "code",
      "execution_count": null,
      "metadata": {
        "colab": {
          "base_uri": "https://localhost:8080/",
          "height": 356
        },
        "id": "Yt_RdXJDSaHb",
        "outputId": "9523cb42-f4a8-46d5-ae62-e4b51569962f"
      },
      "outputs": [
        {
          "output_type": "execute_result",
          "data": {
            "text/plain": [
              "          test_date  cough  fever  sore_throat  shortness_of_breath  \\\n",
              "2742591  2020-03-11      0      0            0                    0   \n",
              "2742592  2020-03-11      0      0            0                    0   \n",
              "2742593  2020-03-11      0      0            0                    0   \n",
              "2742594  2020-03-11      0      0            0                    0   \n",
              "2742595  2020-03-11      0      1            0                    0   \n",
              "\n",
              "         head_ache corona_result age_60_and_above  gender test_indication  \n",
              "2742591          0      negative              NaN  female           Other  \n",
              "2742592          0      negative              NaN  female           Other  \n",
              "2742593          0         other              NaN    male           Other  \n",
              "2742594          0      negative              NaN  female           Other  \n",
              "2742595          0      negative              NaN    male           Other  "
            ],
            "text/html": [
              "\n",
              "  <div id=\"df-8b761ffd-309d-471f-95d9-d43c23127436\">\n",
              "    <div class=\"colab-df-container\">\n",
              "      <div>\n",
              "<style scoped>\n",
              "    .dataframe tbody tr th:only-of-type {\n",
              "        vertical-align: middle;\n",
              "    }\n",
              "\n",
              "    .dataframe tbody tr th {\n",
              "        vertical-align: top;\n",
              "    }\n",
              "\n",
              "    .dataframe thead th {\n",
              "        text-align: right;\n",
              "    }\n",
              "</style>\n",
              "<table border=\"1\" class=\"dataframe\">\n",
              "  <thead>\n",
              "    <tr style=\"text-align: right;\">\n",
              "      <th></th>\n",
              "      <th>test_date</th>\n",
              "      <th>cough</th>\n",
              "      <th>fever</th>\n",
              "      <th>sore_throat</th>\n",
              "      <th>shortness_of_breath</th>\n",
              "      <th>head_ache</th>\n",
              "      <th>corona_result</th>\n",
              "      <th>age_60_and_above</th>\n",
              "      <th>gender</th>\n",
              "      <th>test_indication</th>\n",
              "    </tr>\n",
              "  </thead>\n",
              "  <tbody>\n",
              "    <tr>\n",
              "      <th>2742591</th>\n",
              "      <td>2020-03-11</td>\n",
              "      <td>0</td>\n",
              "      <td>0</td>\n",
              "      <td>0</td>\n",
              "      <td>0</td>\n",
              "      <td>0</td>\n",
              "      <td>negative</td>\n",
              "      <td>NaN</td>\n",
              "      <td>female</td>\n",
              "      <td>Other</td>\n",
              "    </tr>\n",
              "    <tr>\n",
              "      <th>2742592</th>\n",
              "      <td>2020-03-11</td>\n",
              "      <td>0</td>\n",
              "      <td>0</td>\n",
              "      <td>0</td>\n",
              "      <td>0</td>\n",
              "      <td>0</td>\n",
              "      <td>negative</td>\n",
              "      <td>NaN</td>\n",
              "      <td>female</td>\n",
              "      <td>Other</td>\n",
              "    </tr>\n",
              "    <tr>\n",
              "      <th>2742593</th>\n",
              "      <td>2020-03-11</td>\n",
              "      <td>0</td>\n",
              "      <td>0</td>\n",
              "      <td>0</td>\n",
              "      <td>0</td>\n",
              "      <td>0</td>\n",
              "      <td>other</td>\n",
              "      <td>NaN</td>\n",
              "      <td>male</td>\n",
              "      <td>Other</td>\n",
              "    </tr>\n",
              "    <tr>\n",
              "      <th>2742594</th>\n",
              "      <td>2020-03-11</td>\n",
              "      <td>0</td>\n",
              "      <td>0</td>\n",
              "      <td>0</td>\n",
              "      <td>0</td>\n",
              "      <td>0</td>\n",
              "      <td>negative</td>\n",
              "      <td>NaN</td>\n",
              "      <td>female</td>\n",
              "      <td>Other</td>\n",
              "    </tr>\n",
              "    <tr>\n",
              "      <th>2742595</th>\n",
              "      <td>2020-03-11</td>\n",
              "      <td>0</td>\n",
              "      <td>1</td>\n",
              "      <td>0</td>\n",
              "      <td>0</td>\n",
              "      <td>0</td>\n",
              "      <td>negative</td>\n",
              "      <td>NaN</td>\n",
              "      <td>male</td>\n",
              "      <td>Other</td>\n",
              "    </tr>\n",
              "  </tbody>\n",
              "</table>\n",
              "</div>\n",
              "      <button class=\"colab-df-convert\" onclick=\"convertToInteractive('df-8b761ffd-309d-471f-95d9-d43c23127436')\"\n",
              "              title=\"Convert this dataframe to an interactive table.\"\n",
              "              style=\"display:none;\">\n",
              "        \n",
              "  <svg xmlns=\"http://www.w3.org/2000/svg\" height=\"24px\"viewBox=\"0 0 24 24\"\n",
              "       width=\"24px\">\n",
              "    <path d=\"M0 0h24v24H0V0z\" fill=\"none\"/>\n",
              "    <path d=\"M18.56 5.44l.94 2.06.94-2.06 2.06-.94-2.06-.94-.94-2.06-.94 2.06-2.06.94zm-11 1L8.5 8.5l.94-2.06 2.06-.94-2.06-.94L8.5 2.5l-.94 2.06-2.06.94zm10 10l.94 2.06.94-2.06 2.06-.94-2.06-.94-.94-2.06-.94 2.06-2.06.94z\"/><path d=\"M17.41 7.96l-1.37-1.37c-.4-.4-.92-.59-1.43-.59-.52 0-1.04.2-1.43.59L10.3 9.45l-7.72 7.72c-.78.78-.78 2.05 0 2.83L4 21.41c.39.39.9.59 1.41.59.51 0 1.02-.2 1.41-.59l7.78-7.78 2.81-2.81c.8-.78.8-2.07 0-2.86zM5.41 20L4 18.59l7.72-7.72 1.47 1.35L5.41 20z\"/>\n",
              "  </svg>\n",
              "      </button>\n",
              "      \n",
              "  <style>\n",
              "    .colab-df-container {\n",
              "      display:flex;\n",
              "      flex-wrap:wrap;\n",
              "      gap: 12px;\n",
              "    }\n",
              "\n",
              "    .colab-df-convert {\n",
              "      background-color: #E8F0FE;\n",
              "      border: none;\n",
              "      border-radius: 50%;\n",
              "      cursor: pointer;\n",
              "      display: none;\n",
              "      fill: #1967D2;\n",
              "      height: 32px;\n",
              "      padding: 0 0 0 0;\n",
              "      width: 32px;\n",
              "    }\n",
              "\n",
              "    .colab-df-convert:hover {\n",
              "      background-color: #E2EBFA;\n",
              "      box-shadow: 0px 1px 2px rgba(60, 64, 67, 0.3), 0px 1px 3px 1px rgba(60, 64, 67, 0.15);\n",
              "      fill: #174EA6;\n",
              "    }\n",
              "\n",
              "    [theme=dark] .colab-df-convert {\n",
              "      background-color: #3B4455;\n",
              "      fill: #D2E3FC;\n",
              "    }\n",
              "\n",
              "    [theme=dark] .colab-df-convert:hover {\n",
              "      background-color: #434B5C;\n",
              "      box-shadow: 0px 1px 3px 1px rgba(0, 0, 0, 0.15);\n",
              "      filter: drop-shadow(0px 1px 2px rgba(0, 0, 0, 0.3));\n",
              "      fill: #FFFFFF;\n",
              "    }\n",
              "  </style>\n",
              "\n",
              "      <script>\n",
              "        const buttonEl =\n",
              "          document.querySelector('#df-8b761ffd-309d-471f-95d9-d43c23127436 button.colab-df-convert');\n",
              "        buttonEl.style.display =\n",
              "          google.colab.kernel.accessAllowed ? 'block' : 'none';\n",
              "\n",
              "        async function convertToInteractive(key) {\n",
              "          const element = document.querySelector('#df-8b761ffd-309d-471f-95d9-d43c23127436');\n",
              "          const dataTable =\n",
              "            await google.colab.kernel.invokeFunction('convertToInteractive',\n",
              "                                                     [key], {});\n",
              "          if (!dataTable) return;\n",
              "\n",
              "          const docLinkHtml = 'Like what you see? Visit the ' +\n",
              "            '<a target=\"_blank\" href=https://colab.research.google.com/notebooks/data_table.ipynb>data table notebook</a>'\n",
              "            + ' to learn more about interactive tables.';\n",
              "          element.innerHTML = '';\n",
              "          dataTable['output_type'] = 'display_data';\n",
              "          await google.colab.output.renderOutput(dataTable, element);\n",
              "          const docLink = document.createElement('div');\n",
              "          docLink.innerHTML = docLinkHtml;\n",
              "          element.appendChild(docLink);\n",
              "        }\n",
              "      </script>\n",
              "    </div>\n",
              "  </div>\n",
              "  "
            ]
          },
          "metadata": {},
          "execution_count": 4
        }
      ],
      "source": [
        "# Previewing the tail of the dataset\n",
        "df.tail()"
      ]
    },
    {
      "cell_type": "markdown",
      "metadata": {
        "id": "IMHsjxx5Xc_X"
      },
      "source": [
        "## 3. Data Understanding"
      ]
    },
    {
      "cell_type": "code",
      "execution_count": null,
      "metadata": {
        "colab": {
          "base_uri": "https://localhost:8080/"
        },
        "id": "khECtLx-XbE4",
        "outputId": "5f8efd1b-b006-4ff1-ba6d-f720b27e8228"
      },
      "outputs": [
        {
          "output_type": "stream",
          "name": "stdout",
          "text": [
            "<class 'pandas.core.frame.DataFrame'>\n",
            "RangeIndex: 2742596 entries, 0 to 2742595\n",
            "Data columns (total 10 columns):\n",
            " #   Column               Dtype \n",
            "---  ------               ----- \n",
            " 0   test_date            object\n",
            " 1   cough                int64 \n",
            " 2   fever                int64 \n",
            " 3   sore_throat          int64 \n",
            " 4   shortness_of_breath  int64 \n",
            " 5   head_ache            int64 \n",
            " 6   corona_result        object\n",
            " 7   age_60_and_above     object\n",
            " 8   gender               object\n",
            " 9   test_indication      object\n",
            "dtypes: int64(5), object(5)\n",
            "memory usage: 209.2+ MB\n"
          ]
        }
      ],
      "source": [
        "#getting the info on the dataset\n",
        "df.info()"
      ]
    },
    {
      "cell_type": "code",
      "execution_count": null,
      "metadata": {
        "colab": {
          "base_uri": "https://localhost:8080/"
        },
        "id": "h8OQ7lNvXni9",
        "outputId": "ce5fdd5c-755e-42ae-c219-8c180cbf53cb"
      },
      "outputs": [
        {
          "output_type": "execute_result",
          "data": {
            "text/plain": [
              "(2742596, 10)"
            ]
          },
          "metadata": {},
          "execution_count": 6
        }
      ],
      "source": [
        "#getting the info on the dataset\n",
        "df.shape"
      ]
    },
    {
      "cell_type": "code",
      "execution_count": null,
      "metadata": {
        "colab": {
          "base_uri": "https://localhost:8080/",
          "height": 300
        },
        "id": "ZF-zFfvmXpxq",
        "outputId": "af460f0b-d439-4b1e-8655-ae093657f9ba"
      },
      "outputs": [
        {
          "output_type": "execute_result",
          "data": {
            "text/plain": [
              "              cough         fever   sore_throat  shortness_of_breath  \\\n",
              "count  2.742596e+06  2.742596e+06  2.742596e+06         2.742596e+06   \n",
              "mean   4.059584e-02  3.536649e-02  1.096917e-02         4.016997e-03   \n",
              "std    1.973521e-01  1.847044e-01  1.041578e-01         6.325237e-02   \n",
              "min    0.000000e+00  0.000000e+00  0.000000e+00         0.000000e+00   \n",
              "25%    0.000000e+00  0.000000e+00  0.000000e+00         0.000000e+00   \n",
              "50%    0.000000e+00  0.000000e+00  0.000000e+00         0.000000e+00   \n",
              "75%    0.000000e+00  0.000000e+00  0.000000e+00         0.000000e+00   \n",
              "max    1.000000e+00  1.000000e+00  1.000000e+00         1.000000e+00   \n",
              "\n",
              "          head_ache  \n",
              "count  2.742596e+06  \n",
              "mean   2.185557e-02  \n",
              "std    1.462119e-01  \n",
              "min    0.000000e+00  \n",
              "25%    0.000000e+00  \n",
              "50%    0.000000e+00  \n",
              "75%    0.000000e+00  \n",
              "max    1.000000e+00  "
            ],
            "text/html": [
              "\n",
              "  <div id=\"df-b40dd941-b694-40ff-9d4a-dc474a844c76\">\n",
              "    <div class=\"colab-df-container\">\n",
              "      <div>\n",
              "<style scoped>\n",
              "    .dataframe tbody tr th:only-of-type {\n",
              "        vertical-align: middle;\n",
              "    }\n",
              "\n",
              "    .dataframe tbody tr th {\n",
              "        vertical-align: top;\n",
              "    }\n",
              "\n",
              "    .dataframe thead th {\n",
              "        text-align: right;\n",
              "    }\n",
              "</style>\n",
              "<table border=\"1\" class=\"dataframe\">\n",
              "  <thead>\n",
              "    <tr style=\"text-align: right;\">\n",
              "      <th></th>\n",
              "      <th>cough</th>\n",
              "      <th>fever</th>\n",
              "      <th>sore_throat</th>\n",
              "      <th>shortness_of_breath</th>\n",
              "      <th>head_ache</th>\n",
              "    </tr>\n",
              "  </thead>\n",
              "  <tbody>\n",
              "    <tr>\n",
              "      <th>count</th>\n",
              "      <td>2.742596e+06</td>\n",
              "      <td>2.742596e+06</td>\n",
              "      <td>2.742596e+06</td>\n",
              "      <td>2.742596e+06</td>\n",
              "      <td>2.742596e+06</td>\n",
              "    </tr>\n",
              "    <tr>\n",
              "      <th>mean</th>\n",
              "      <td>4.059584e-02</td>\n",
              "      <td>3.536649e-02</td>\n",
              "      <td>1.096917e-02</td>\n",
              "      <td>4.016997e-03</td>\n",
              "      <td>2.185557e-02</td>\n",
              "    </tr>\n",
              "    <tr>\n",
              "      <th>std</th>\n",
              "      <td>1.973521e-01</td>\n",
              "      <td>1.847044e-01</td>\n",
              "      <td>1.041578e-01</td>\n",
              "      <td>6.325237e-02</td>\n",
              "      <td>1.462119e-01</td>\n",
              "    </tr>\n",
              "    <tr>\n",
              "      <th>min</th>\n",
              "      <td>0.000000e+00</td>\n",
              "      <td>0.000000e+00</td>\n",
              "      <td>0.000000e+00</td>\n",
              "      <td>0.000000e+00</td>\n",
              "      <td>0.000000e+00</td>\n",
              "    </tr>\n",
              "    <tr>\n",
              "      <th>25%</th>\n",
              "      <td>0.000000e+00</td>\n",
              "      <td>0.000000e+00</td>\n",
              "      <td>0.000000e+00</td>\n",
              "      <td>0.000000e+00</td>\n",
              "      <td>0.000000e+00</td>\n",
              "    </tr>\n",
              "    <tr>\n",
              "      <th>50%</th>\n",
              "      <td>0.000000e+00</td>\n",
              "      <td>0.000000e+00</td>\n",
              "      <td>0.000000e+00</td>\n",
              "      <td>0.000000e+00</td>\n",
              "      <td>0.000000e+00</td>\n",
              "    </tr>\n",
              "    <tr>\n",
              "      <th>75%</th>\n",
              "      <td>0.000000e+00</td>\n",
              "      <td>0.000000e+00</td>\n",
              "      <td>0.000000e+00</td>\n",
              "      <td>0.000000e+00</td>\n",
              "      <td>0.000000e+00</td>\n",
              "    </tr>\n",
              "    <tr>\n",
              "      <th>max</th>\n",
              "      <td>1.000000e+00</td>\n",
              "      <td>1.000000e+00</td>\n",
              "      <td>1.000000e+00</td>\n",
              "      <td>1.000000e+00</td>\n",
              "      <td>1.000000e+00</td>\n",
              "    </tr>\n",
              "  </tbody>\n",
              "</table>\n",
              "</div>\n",
              "      <button class=\"colab-df-convert\" onclick=\"convertToInteractive('df-b40dd941-b694-40ff-9d4a-dc474a844c76')\"\n",
              "              title=\"Convert this dataframe to an interactive table.\"\n",
              "              style=\"display:none;\">\n",
              "        \n",
              "  <svg xmlns=\"http://www.w3.org/2000/svg\" height=\"24px\"viewBox=\"0 0 24 24\"\n",
              "       width=\"24px\">\n",
              "    <path d=\"M0 0h24v24H0V0z\" fill=\"none\"/>\n",
              "    <path d=\"M18.56 5.44l.94 2.06.94-2.06 2.06-.94-2.06-.94-.94-2.06-.94 2.06-2.06.94zm-11 1L8.5 8.5l.94-2.06 2.06-.94-2.06-.94L8.5 2.5l-.94 2.06-2.06.94zm10 10l.94 2.06.94-2.06 2.06-.94-2.06-.94-.94-2.06-.94 2.06-2.06.94z\"/><path d=\"M17.41 7.96l-1.37-1.37c-.4-.4-.92-.59-1.43-.59-.52 0-1.04.2-1.43.59L10.3 9.45l-7.72 7.72c-.78.78-.78 2.05 0 2.83L4 21.41c.39.39.9.59 1.41.59.51 0 1.02-.2 1.41-.59l7.78-7.78 2.81-2.81c.8-.78.8-2.07 0-2.86zM5.41 20L4 18.59l7.72-7.72 1.47 1.35L5.41 20z\"/>\n",
              "  </svg>\n",
              "      </button>\n",
              "      \n",
              "  <style>\n",
              "    .colab-df-container {\n",
              "      display:flex;\n",
              "      flex-wrap:wrap;\n",
              "      gap: 12px;\n",
              "    }\n",
              "\n",
              "    .colab-df-convert {\n",
              "      background-color: #E8F0FE;\n",
              "      border: none;\n",
              "      border-radius: 50%;\n",
              "      cursor: pointer;\n",
              "      display: none;\n",
              "      fill: #1967D2;\n",
              "      height: 32px;\n",
              "      padding: 0 0 0 0;\n",
              "      width: 32px;\n",
              "    }\n",
              "\n",
              "    .colab-df-convert:hover {\n",
              "      background-color: #E2EBFA;\n",
              "      box-shadow: 0px 1px 2px rgba(60, 64, 67, 0.3), 0px 1px 3px 1px rgba(60, 64, 67, 0.15);\n",
              "      fill: #174EA6;\n",
              "    }\n",
              "\n",
              "    [theme=dark] .colab-df-convert {\n",
              "      background-color: #3B4455;\n",
              "      fill: #D2E3FC;\n",
              "    }\n",
              "\n",
              "    [theme=dark] .colab-df-convert:hover {\n",
              "      background-color: #434B5C;\n",
              "      box-shadow: 0px 1px 3px 1px rgba(0, 0, 0, 0.15);\n",
              "      filter: drop-shadow(0px 1px 2px rgba(0, 0, 0, 0.3));\n",
              "      fill: #FFFFFF;\n",
              "    }\n",
              "  </style>\n",
              "\n",
              "      <script>\n",
              "        const buttonEl =\n",
              "          document.querySelector('#df-b40dd941-b694-40ff-9d4a-dc474a844c76 button.colab-df-convert');\n",
              "        buttonEl.style.display =\n",
              "          google.colab.kernel.accessAllowed ? 'block' : 'none';\n",
              "\n",
              "        async function convertToInteractive(key) {\n",
              "          const element = document.querySelector('#df-b40dd941-b694-40ff-9d4a-dc474a844c76');\n",
              "          const dataTable =\n",
              "            await google.colab.kernel.invokeFunction('convertToInteractive',\n",
              "                                                     [key], {});\n",
              "          if (!dataTable) return;\n",
              "\n",
              "          const docLinkHtml = 'Like what you see? Visit the ' +\n",
              "            '<a target=\"_blank\" href=https://colab.research.google.com/notebooks/data_table.ipynb>data table notebook</a>'\n",
              "            + ' to learn more about interactive tables.';\n",
              "          element.innerHTML = '';\n",
              "          dataTable['output_type'] = 'display_data';\n",
              "          await google.colab.output.renderOutput(dataTable, element);\n",
              "          const docLink = document.createElement('div');\n",
              "          docLink.innerHTML = docLinkHtml;\n",
              "          element.appendChild(docLink);\n",
              "        }\n",
              "      </script>\n",
              "    </div>\n",
              "  </div>\n",
              "  "
            ]
          },
          "metadata": {},
          "execution_count": 7
        }
      ],
      "source": [
        "# Getting a brief a statistical overview of the dataset\n",
        "df.describe()"
      ]
    },
    {
      "cell_type": "markdown",
      "metadata": {
        "id": "Dtduu4V1WDKr"
      },
      "source": [
        "# 4. Data Cleaning"
      ]
    },
    {
      "cell_type": "code",
      "execution_count": null,
      "metadata": {
        "colab": {
          "base_uri": "https://localhost:8080/"
        },
        "id": "Rcrd93yMV9Ni",
        "outputId": "418901bf-4dc9-4814-c626-67151ae9e2ee"
      },
      "outputs": [
        {
          "output_type": "execute_result",
          "data": {
            "text/plain": [
              "test_date                   0\n",
              "cough                       0\n",
              "fever                       0\n",
              "sore_throat                 0\n",
              "shortness_of_breath         0\n",
              "head_ache                   0\n",
              "corona_result               0\n",
              "age_60_and_above       547644\n",
              "gender                  92886\n",
              "test_indication             0\n",
              "dtype: int64"
            ]
          },
          "metadata": {},
          "execution_count": 8
        }
      ],
      "source": [
        "# Checking for null values\n",
        "df.isnull().sum()"
      ]
    },
    {
      "cell_type": "code",
      "execution_count": null,
      "metadata": {
        "colab": {
          "base_uri": "https://localhost:8080/"
        },
        "id": "FRP1WC6lWrtC",
        "outputId": "871d3169-1ba2-4b52-a78e-4431318d4a8f"
      },
      "outputs": [
        {
          "output_type": "execute_result",
          "data": {
            "text/plain": [
              "age_60_and_above       19.97\n",
              "gender                  3.39\n",
              "test_date               0.00\n",
              "cough                   0.00\n",
              "fever                   0.00\n",
              "sore_throat             0.00\n",
              "shortness_of_breath     0.00\n",
              "head_ache               0.00\n",
              "corona_result           0.00\n",
              "test_indication         0.00\n",
              "dtype: float64"
            ]
          },
          "metadata": {},
          "execution_count": 9
        }
      ],
      "source": [
        "# Checking for null values as a percentage\n",
        "# Sorting the missing values in a descending order\n",
        "#\n",
        "(df.isna().mean().round(4) * 100).sort_values(ascending = False)"
      ]
    },
    {
      "cell_type": "code",
      "execution_count": null,
      "metadata": {
        "colab": {
          "base_uri": "https://localhost:8080/",
          "height": 661
        },
        "id": "vAgIzcxSYsiJ",
        "outputId": "1f8c46f9-3016-4f9b-fe8e-dcce50b826e1"
      },
      "outputs": [
        {
          "output_type": "execute_result",
          "data": {
            "text/plain": [
              "          test_date  cough  fever  sore_throat  shortness_of_breath  \\\n",
              "0        2020-11-12      0      0            0                    0   \n",
              "1        2020-11-12      0      1            0                    0   \n",
              "2        2020-11-12      0      0            0                    0   \n",
              "3        2020-11-12      0      0            0                    0   \n",
              "4        2020-11-12      0      1            0                    0   \n",
              "...             ...    ...    ...          ...                  ...   \n",
              "2731639  2020-03-20      1      1            1                    1   \n",
              "2731640  2020-03-20      0      0            0                    0   \n",
              "2731643  2020-03-20      1      0            0                    0   \n",
              "2731644  2020-03-20      0      0            0                    0   \n",
              "2731647  2020-03-20      0      0            0                    0   \n",
              "\n",
              "         head_ache corona_result age_60_and_above  gender  \\\n",
              "0                0      negative               No    male   \n",
              "1                0      negative               No    male   \n",
              "2                0      negative              Yes  female   \n",
              "3                0      negative               No    male   \n",
              "4                0      negative               No    male   \n",
              "...            ...           ...              ...     ...   \n",
              "2731639          1      positive               No  female   \n",
              "2731640          0      negative               No  female   \n",
              "2731643          0      negative               No    male   \n",
              "2731644          0      negative               No  female   \n",
              "2731647          0      negative               No  female   \n",
              "\n",
              "                test_indication  \n",
              "0                         Other  \n",
              "1                         Other  \n",
              "2                         Other  \n",
              "3                         Other  \n",
              "4        Contact with confirmed  \n",
              "...                         ...  \n",
              "2731639  Contact with confirmed  \n",
              "2731640                   Other  \n",
              "2731643  Contact with confirmed  \n",
              "2731644                   Other  \n",
              "2731647                   Other  \n",
              "\n",
              "[2186227 rows x 10 columns]"
            ],
            "text/html": [
              "\n",
              "  <div id=\"df-9c4dba43-5d99-4ac8-a524-5c38e95f5145\">\n",
              "    <div class=\"colab-df-container\">\n",
              "      <div>\n",
              "<style scoped>\n",
              "    .dataframe tbody tr th:only-of-type {\n",
              "        vertical-align: middle;\n",
              "    }\n",
              "\n",
              "    .dataframe tbody tr th {\n",
              "        vertical-align: top;\n",
              "    }\n",
              "\n",
              "    .dataframe thead th {\n",
              "        text-align: right;\n",
              "    }\n",
              "</style>\n",
              "<table border=\"1\" class=\"dataframe\">\n",
              "  <thead>\n",
              "    <tr style=\"text-align: right;\">\n",
              "      <th></th>\n",
              "      <th>test_date</th>\n",
              "      <th>cough</th>\n",
              "      <th>fever</th>\n",
              "      <th>sore_throat</th>\n",
              "      <th>shortness_of_breath</th>\n",
              "      <th>head_ache</th>\n",
              "      <th>corona_result</th>\n",
              "      <th>age_60_and_above</th>\n",
              "      <th>gender</th>\n",
              "      <th>test_indication</th>\n",
              "    </tr>\n",
              "  </thead>\n",
              "  <tbody>\n",
              "    <tr>\n",
              "      <th>0</th>\n",
              "      <td>2020-11-12</td>\n",
              "      <td>0</td>\n",
              "      <td>0</td>\n",
              "      <td>0</td>\n",
              "      <td>0</td>\n",
              "      <td>0</td>\n",
              "      <td>negative</td>\n",
              "      <td>No</td>\n",
              "      <td>male</td>\n",
              "      <td>Other</td>\n",
              "    </tr>\n",
              "    <tr>\n",
              "      <th>1</th>\n",
              "      <td>2020-11-12</td>\n",
              "      <td>0</td>\n",
              "      <td>1</td>\n",
              "      <td>0</td>\n",
              "      <td>0</td>\n",
              "      <td>0</td>\n",
              "      <td>negative</td>\n",
              "      <td>No</td>\n",
              "      <td>male</td>\n",
              "      <td>Other</td>\n",
              "    </tr>\n",
              "    <tr>\n",
              "      <th>2</th>\n",
              "      <td>2020-11-12</td>\n",
              "      <td>0</td>\n",
              "      <td>0</td>\n",
              "      <td>0</td>\n",
              "      <td>0</td>\n",
              "      <td>0</td>\n",
              "      <td>negative</td>\n",
              "      <td>Yes</td>\n",
              "      <td>female</td>\n",
              "      <td>Other</td>\n",
              "    </tr>\n",
              "    <tr>\n",
              "      <th>3</th>\n",
              "      <td>2020-11-12</td>\n",
              "      <td>0</td>\n",
              "      <td>0</td>\n",
              "      <td>0</td>\n",
              "      <td>0</td>\n",
              "      <td>0</td>\n",
              "      <td>negative</td>\n",
              "      <td>No</td>\n",
              "      <td>male</td>\n",
              "      <td>Other</td>\n",
              "    </tr>\n",
              "    <tr>\n",
              "      <th>4</th>\n",
              "      <td>2020-11-12</td>\n",
              "      <td>0</td>\n",
              "      <td>1</td>\n",
              "      <td>0</td>\n",
              "      <td>0</td>\n",
              "      <td>0</td>\n",
              "      <td>negative</td>\n",
              "      <td>No</td>\n",
              "      <td>male</td>\n",
              "      <td>Contact with confirmed</td>\n",
              "    </tr>\n",
              "    <tr>\n",
              "      <th>...</th>\n",
              "      <td>...</td>\n",
              "      <td>...</td>\n",
              "      <td>...</td>\n",
              "      <td>...</td>\n",
              "      <td>...</td>\n",
              "      <td>...</td>\n",
              "      <td>...</td>\n",
              "      <td>...</td>\n",
              "      <td>...</td>\n",
              "      <td>...</td>\n",
              "    </tr>\n",
              "    <tr>\n",
              "      <th>2731639</th>\n",
              "      <td>2020-03-20</td>\n",
              "      <td>1</td>\n",
              "      <td>1</td>\n",
              "      <td>1</td>\n",
              "      <td>1</td>\n",
              "      <td>1</td>\n",
              "      <td>positive</td>\n",
              "      <td>No</td>\n",
              "      <td>female</td>\n",
              "      <td>Contact with confirmed</td>\n",
              "    </tr>\n",
              "    <tr>\n",
              "      <th>2731640</th>\n",
              "      <td>2020-03-20</td>\n",
              "      <td>0</td>\n",
              "      <td>0</td>\n",
              "      <td>0</td>\n",
              "      <td>0</td>\n",
              "      <td>0</td>\n",
              "      <td>negative</td>\n",
              "      <td>No</td>\n",
              "      <td>female</td>\n",
              "      <td>Other</td>\n",
              "    </tr>\n",
              "    <tr>\n",
              "      <th>2731643</th>\n",
              "      <td>2020-03-20</td>\n",
              "      <td>1</td>\n",
              "      <td>0</td>\n",
              "      <td>0</td>\n",
              "      <td>0</td>\n",
              "      <td>0</td>\n",
              "      <td>negative</td>\n",
              "      <td>No</td>\n",
              "      <td>male</td>\n",
              "      <td>Contact with confirmed</td>\n",
              "    </tr>\n",
              "    <tr>\n",
              "      <th>2731644</th>\n",
              "      <td>2020-03-20</td>\n",
              "      <td>0</td>\n",
              "      <td>0</td>\n",
              "      <td>0</td>\n",
              "      <td>0</td>\n",
              "      <td>0</td>\n",
              "      <td>negative</td>\n",
              "      <td>No</td>\n",
              "      <td>female</td>\n",
              "      <td>Other</td>\n",
              "    </tr>\n",
              "    <tr>\n",
              "      <th>2731647</th>\n",
              "      <td>2020-03-20</td>\n",
              "      <td>0</td>\n",
              "      <td>0</td>\n",
              "      <td>0</td>\n",
              "      <td>0</td>\n",
              "      <td>0</td>\n",
              "      <td>negative</td>\n",
              "      <td>No</td>\n",
              "      <td>female</td>\n",
              "      <td>Other</td>\n",
              "    </tr>\n",
              "  </tbody>\n",
              "</table>\n",
              "<p>2186227 rows × 10 columns</p>\n",
              "</div>\n",
              "      <button class=\"colab-df-convert\" onclick=\"convertToInteractive('df-9c4dba43-5d99-4ac8-a524-5c38e95f5145')\"\n",
              "              title=\"Convert this dataframe to an interactive table.\"\n",
              "              style=\"display:none;\">\n",
              "        \n",
              "  <svg xmlns=\"http://www.w3.org/2000/svg\" height=\"24px\"viewBox=\"0 0 24 24\"\n",
              "       width=\"24px\">\n",
              "    <path d=\"M0 0h24v24H0V0z\" fill=\"none\"/>\n",
              "    <path d=\"M18.56 5.44l.94 2.06.94-2.06 2.06-.94-2.06-.94-.94-2.06-.94 2.06-2.06.94zm-11 1L8.5 8.5l.94-2.06 2.06-.94-2.06-.94L8.5 2.5l-.94 2.06-2.06.94zm10 10l.94 2.06.94-2.06 2.06-.94-2.06-.94-.94-2.06-.94 2.06-2.06.94z\"/><path d=\"M17.41 7.96l-1.37-1.37c-.4-.4-.92-.59-1.43-.59-.52 0-1.04.2-1.43.59L10.3 9.45l-7.72 7.72c-.78.78-.78 2.05 0 2.83L4 21.41c.39.39.9.59 1.41.59.51 0 1.02-.2 1.41-.59l7.78-7.78 2.81-2.81c.8-.78.8-2.07 0-2.86zM5.41 20L4 18.59l7.72-7.72 1.47 1.35L5.41 20z\"/>\n",
              "  </svg>\n",
              "      </button>\n",
              "      \n",
              "  <style>\n",
              "    .colab-df-container {\n",
              "      display:flex;\n",
              "      flex-wrap:wrap;\n",
              "      gap: 12px;\n",
              "    }\n",
              "\n",
              "    .colab-df-convert {\n",
              "      background-color: #E8F0FE;\n",
              "      border: none;\n",
              "      border-radius: 50%;\n",
              "      cursor: pointer;\n",
              "      display: none;\n",
              "      fill: #1967D2;\n",
              "      height: 32px;\n",
              "      padding: 0 0 0 0;\n",
              "      width: 32px;\n",
              "    }\n",
              "\n",
              "    .colab-df-convert:hover {\n",
              "      background-color: #E2EBFA;\n",
              "      box-shadow: 0px 1px 2px rgba(60, 64, 67, 0.3), 0px 1px 3px 1px rgba(60, 64, 67, 0.15);\n",
              "      fill: #174EA6;\n",
              "    }\n",
              "\n",
              "    [theme=dark] .colab-df-convert {\n",
              "      background-color: #3B4455;\n",
              "      fill: #D2E3FC;\n",
              "    }\n",
              "\n",
              "    [theme=dark] .colab-df-convert:hover {\n",
              "      background-color: #434B5C;\n",
              "      box-shadow: 0px 1px 3px 1px rgba(0, 0, 0, 0.15);\n",
              "      filter: drop-shadow(0px 1px 2px rgba(0, 0, 0, 0.3));\n",
              "      fill: #FFFFFF;\n",
              "    }\n",
              "  </style>\n",
              "\n",
              "      <script>\n",
              "        const buttonEl =\n",
              "          document.querySelector('#df-9c4dba43-5d99-4ac8-a524-5c38e95f5145 button.colab-df-convert');\n",
              "        buttonEl.style.display =\n",
              "          google.colab.kernel.accessAllowed ? 'block' : 'none';\n",
              "\n",
              "        async function convertToInteractive(key) {\n",
              "          const element = document.querySelector('#df-9c4dba43-5d99-4ac8-a524-5c38e95f5145');\n",
              "          const dataTable =\n",
              "            await google.colab.kernel.invokeFunction('convertToInteractive',\n",
              "                                                     [key], {});\n",
              "          if (!dataTable) return;\n",
              "\n",
              "          const docLinkHtml = 'Like what you see? Visit the ' +\n",
              "            '<a target=\"_blank\" href=https://colab.research.google.com/notebooks/data_table.ipynb>data table notebook</a>'\n",
              "            + ' to learn more about interactive tables.';\n",
              "          element.innerHTML = '';\n",
              "          dataTable['output_type'] = 'display_data';\n",
              "          await google.colab.output.renderOutput(dataTable, element);\n",
              "          const docLink = document.createElement('div');\n",
              "          docLink.innerHTML = docLinkHtml;\n",
              "          element.appendChild(docLink);\n",
              "        }\n",
              "      </script>\n",
              "    </div>\n",
              "  </div>\n",
              "  "
            ]
          },
          "metadata": {},
          "execution_count": 10
        }
      ],
      "source": [
        "# Dropping the null values in the dataset since they are few and won't affect the model.\n",
        "df.dropna()"
      ]
    },
    {
      "cell_type": "markdown",
      "source": [
        "> Null values were dropped since they were very small in quantity."
      ],
      "metadata": {
        "id": "zFQKrMmtLrT0"
      }
    },
    {
      "cell_type": "code",
      "execution_count": null,
      "metadata": {
        "colab": {
          "base_uri": "https://localhost:8080/"
        },
        "id": "krbc1NMEWImJ",
        "outputId": "7947b32e-1c5a-4983-f877-899fa8c09ed1"
      },
      "outputs": [
        {
          "output_type": "execute_result",
          "data": {
            "text/plain": [
              "2695099"
            ]
          },
          "metadata": {},
          "execution_count": 11
        }
      ],
      "source": [
        "# Checking for duplicates in the dataset\n",
        "df.duplicated().sum()"
      ]
    },
    {
      "cell_type": "markdown",
      "metadata": {
        "id": "rDh71sWhcxzI"
      },
      "source": [
        "The duplicates were not dropped because they represented different instances of the variables. Such as Negative value occured in several times in corona_result column, in which pandas read it as a duplicate whereas it is not"
      ]
    },
    {
      "cell_type": "code",
      "source": [
        "# Checking the value counts of the corona result variable that is going to be\n",
        "# our target variable\n",
        "df.corona_result.value_counts()"
      ],
      "metadata": {
        "colab": {
          "base_uri": "https://localhost:8080/"
        },
        "id": "SWOmnENQ0Zfl",
        "outputId": "da14a918-5e36-4de9-9724-1e525ab22529"
      },
      "execution_count": null,
      "outputs": [
        {
          "output_type": "execute_result",
          "data": {
            "text/plain": [
              "negative    2480403\n",
              "positive     220975\n",
              "other         41218\n",
              "Name: corona_result, dtype: int64"
            ]
          },
          "metadata": {},
          "execution_count": 12
        }
      ]
    },
    {
      "cell_type": "code",
      "source": [
        "# Dropping 'other' category to make the category binary\n",
        "df1 = df.query('`corona_result` != \"other\"')\n",
        "df1.corona_result.value_counts()"
      ],
      "metadata": {
        "colab": {
          "base_uri": "https://localhost:8080/"
        },
        "id": "ZJVD4xQ21Iys",
        "outputId": "25cc7460-ff8a-467a-a67a-4a39defd6175"
      },
      "execution_count": null,
      "outputs": [
        {
          "output_type": "execute_result",
          "data": {
            "text/plain": [
              "negative    2480403\n",
              "positive     220975\n",
              "Name: corona_result, dtype: int64"
            ]
          },
          "metadata": {},
          "execution_count": 13
        }
      ]
    },
    {
      "cell_type": "code",
      "execution_count": null,
      "metadata": {
        "colab": {
          "base_uri": "https://localhost:8080/"
        },
        "id": "XSgP558EeX7h",
        "outputId": "6cbf2ebe-eee7-4e25-addb-e5e274bddb64"
      },
      "outputs": [
        {
          "output_type": "execute_result",
          "data": {
            "text/plain": [
              "array(['2020-11-12', '2020-11-11', '2020-11-10', '2020-11-09',\n",
              "       '2020-11-08', '2020-11-07', '2020-11-06', '2020-11-05',\n",
              "       '2020-11-04', '2020-11-03', '2020-11-02', '2020-11-01',\n",
              "       '2020-10-31', '2020-10-30', '2020-10-29', '2020-10-28',\n",
              "       '2020-10-27', '2020-10-26', '2020-10-25', '2020-10-24',\n",
              "       '2020-10-23', '2020-10-22', '2020-10-21', '2020-10-20',\n",
              "       '2020-10-19', '2020-10-18', '2020-10-17', '2020-10-16',\n",
              "       '2020-10-15', '2020-10-14', '2020-10-13', '2020-10-12',\n",
              "       '2020-10-11', '2020-10-10', '2020-10-09', '2020-10-08',\n",
              "       '2020-10-07', '2020-10-06', '2020-10-05', '2020-10-04',\n",
              "       '2020-10-03', '2020-10-02', '2020-10-01', '2020-09-30',\n",
              "       '2020-09-29', '2020-09-28', '2020-09-27', '2020-09-26',\n",
              "       '2020-09-25', '2020-09-24', '2020-09-23', '2020-09-22',\n",
              "       '2020-09-21', '2020-09-20', '2020-09-19', '2020-09-18',\n",
              "       '2020-09-17', '2020-09-16', '2020-09-15', '2020-09-14',\n",
              "       '2020-09-13', '2020-09-12', '2020-09-11', '2020-09-10',\n",
              "       '2020-09-09', '2020-09-08', '2020-09-07', '2020-09-06',\n",
              "       '2020-09-05', '2020-09-04', '2020-09-03', '2020-09-02',\n",
              "       '2020-09-01', '2020-08-31', '2020-08-30', '2020-08-29',\n",
              "       '2020-08-28', '2020-08-27', '2020-08-26', '2020-08-25',\n",
              "       '2020-08-24', '2020-08-23', '2020-08-22', '2020-08-21',\n",
              "       '2020-08-20', '2020-08-19', '2020-08-18', '2020-08-17',\n",
              "       '2020-08-16', '2020-08-15', '2020-08-14', '2020-08-13',\n",
              "       '2020-08-12', '2020-08-11', '2020-08-10', '2020-08-09',\n",
              "       '2020-08-08', '2020-08-07', '2020-08-06', '2020-08-05',\n",
              "       '2020-08-04', '2020-08-03', '2020-08-02', '2020-08-01',\n",
              "       '2020-07-31', '2020-07-30', '2020-07-29', '2020-07-28',\n",
              "       '2020-07-27', '2020-07-26', '2020-07-25', '2020-07-24',\n",
              "       '2020-07-23', '2020-07-22', '2020-07-21', '2020-07-20',\n",
              "       '2020-07-19', '2020-07-18', '2020-07-17', '2020-07-16',\n",
              "       '2020-07-15', '2020-07-14', '2020-07-13', '2020-07-12',\n",
              "       '2020-07-11', '2020-07-10', '2020-07-09', '2020-07-08',\n",
              "       '2020-07-07', '2020-07-06', '2020-07-05', '2020-07-04',\n",
              "       '2020-07-03', '2020-07-02', '2020-07-01', '2020-06-30',\n",
              "       '2020-06-29', '2020-06-28', '2020-06-27', '2020-06-26',\n",
              "       '2020-06-25', '2020-06-24', '2020-06-23', '2020-06-22',\n",
              "       '2020-06-21', '2020-06-20', '2020-06-19', '2020-06-18',\n",
              "       '2020-06-17', '2020-06-16', '2020-06-15', '2020-06-14',\n",
              "       '2020-06-13', '2020-06-12', '2020-06-11', '2020-06-10',\n",
              "       '2020-06-09', '2020-06-08', '2020-06-07', '2020-06-06',\n",
              "       '2020-06-05', '2020-06-04', '2020-06-03', '2020-06-02',\n",
              "       '2020-06-01', '2020-05-31', '2020-05-30', '2020-05-29',\n",
              "       '2020-05-28', '2020-05-27', '2020-05-26', '2020-05-25',\n",
              "       '2020-05-24', '2020-05-23', '2020-05-22', '2020-05-21',\n",
              "       '2020-05-20', '2020-05-19', '2020-05-18', '2020-05-17',\n",
              "       '2020-05-16', '2020-05-15', '2020-05-14', '2020-05-13',\n",
              "       '2020-05-12', '2020-05-11', '2020-05-10', '2020-05-09',\n",
              "       '2020-05-08', '2020-05-07', '2020-05-06', '2020-05-05',\n",
              "       '2020-05-04', '2020-05-03', '2020-05-02', '2020-05-01',\n",
              "       '2020-04-30', '2020-04-29', '2020-04-28', '2020-04-27',\n",
              "       '2020-04-26', '2020-04-25', '2020-04-24', '2020-04-23',\n",
              "       '2020-04-22', '2020-04-21', '2020-04-20', '2020-04-19',\n",
              "       '2020-04-18', '2020-04-17', '2020-04-16', '2020-04-15',\n",
              "       '2020-04-14', '2020-04-13', '2020-04-12', '2020-04-11',\n",
              "       '2020-04-10', '2020-04-09', '2020-04-08', '2020-04-07',\n",
              "       '2020-04-06', '2020-04-05', '2020-04-04', '2020-04-03',\n",
              "       '2020-04-02', '2020-04-01', '2020-03-31', '2020-03-30',\n",
              "       '2020-03-29', '2020-03-28', '2020-03-27', '2020-03-26',\n",
              "       '2020-03-25', '2020-03-24', '2020-03-23', '2020-03-22',\n",
              "       '2020-03-21', '2020-03-20', '2020-03-19', '2020-03-18',\n",
              "       '2020-03-17', '2020-03-16', '2020-03-15', '2020-03-14',\n",
              "       '2020-03-13', '2020-03-12', '2020-03-11'], dtype=object)"
            ]
          },
          "metadata": {},
          "execution_count": 14
        }
      ],
      "source": [
        "# Checking unique values in the test_date\n",
        "df['test_date'].unique()"
      ]
    },
    {
      "cell_type": "code",
      "execution_count": null,
      "metadata": {
        "colab": {
          "base_uri": "https://localhost:8080/"
        },
        "id": "Z9_BKP2lfGwR",
        "outputId": "2619307e-0f2c-4c5e-ab9a-491c47cb965a"
      },
      "outputs": [
        {
          "output_type": "execute_result",
          "data": {
            "text/plain": [
              "test_date              object\n",
              "cough                   int64\n",
              "fever                   int64\n",
              "sore_throat             int64\n",
              "shortness_of_breath     int64\n",
              "head_ache               int64\n",
              "corona_result          object\n",
              "age_60_and_above       object\n",
              "gender                 object\n",
              "test_indication        object\n",
              "dtype: object"
            ]
          },
          "metadata": {},
          "execution_count": 15
        }
      ],
      "source": [
        "# Checking the datatypes in the columns\n",
        "df.dtypes"
      ]
    },
    {
      "cell_type": "code",
      "execution_count": null,
      "metadata": {
        "colab": {
          "base_uri": "https://localhost:8080/",
          "height": 348
        },
        "id": "ylP_-B6eck5f",
        "outputId": "7b1d5e57-00e6-4eb5-a973-5de014294925"
      },
      "outputs": [
        {
          "output_type": "display_data",
          "data": {
            "text/plain": [
              "<Figure size 1440x504 with 5 Axes>"
            ],
            "image/png": "[encoded data removed]"
          },
          "metadata": {
            "needs_background": "light"
          }
        }
      ],
      "source": [
        "# Checking for Outliers\n",
        "#\n",
        "fig, ((ax1, ax2, ax3,ax4,ax5)) = plt.subplots(1,5, figsize=(20,7))\n",
        "fig.suptitle('Boxplots')\n",
        "sns.boxplot(df['cough'], ax=ax1)\n",
        "sns.boxplot(df['fever'], ax=ax2)\n",
        "sns.boxplot(df['sore_throat'], ax=ax3)\n",
        "sns.boxplot(df['shortness_of_breath'], ax=ax4)\n",
        "sns.boxplot(df['head_ache'], ax=ax5)\n",
        "\n",
        "plt.show()"
      ]
    },
    {
      "cell_type": "code",
      "source": [
        "## Creating a random Sample.\n",
        "# A random sample was created since the dataset is very large.\n",
        "# Selecting the sample \n",
        "df_sample = df1[['test_date', 'cough', 'fever', 'sore_throat', 'shortness_of_breath',\n",
        "       'head_ache', 'corona_result', 'gender',\n",
        "       'test_indication']].sample(n = 200000, replace=\"False\")\n",
        "df_sample.shape"
      ],
      "metadata": {
        "colab": {
          "base_uri": "https://localhost:8080/"
        },
        "id": "zmGUQqUrcEuZ",
        "outputId": "a1b07a2e-80f4-4b74-c603-09aa65393b15"
      },
      "execution_count": null,
      "outputs": [
        {
          "output_type": "execute_result",
          "data": {
            "text/plain": [
              "(200000, 9)"
            ]
          },
          "metadata": {},
          "execution_count": 17
        }
      ]
    },
    {
      "cell_type": "code",
      "source": [
        "# Saving the data sample to a new csv file\n",
        "df_sample.to_csv('df_sample.csv', index=False)"
      ],
      "metadata": {
        "id": "tOubMomAn2gs"
      },
      "execution_count": null,
      "outputs": []
    },
    {
      "cell_type": "markdown",
      "metadata": {
        "id": "ySQRZmdehdxo"
      },
      "source": [
        "## 5. Exploratory Data Analysis"
      ]
    },
    {
      "cell_type": "markdown",
      "metadata": {
        "id": "kqLX66Lphi1S"
      },
      "source": [
        "### 5.1 Univariate Analysis."
      ]
    },
    {
      "cell_type": "markdown",
      "metadata": {
        "id": "YheO51hljAHf"
      },
      "source": [
        "#### 5.1.1 Categorical Variables"
      ]
    },
    {
      "cell_type": "markdown",
      "metadata": {
        "id": "lsnV5gQalyJK"
      },
      "source": [
        "##### a) Mode"
      ]
    },
    {
      "cell_type": "code",
      "execution_count": null,
      "metadata": {
        "colab": {
          "base_uri": "https://localhost:8080/"
        },
        "id": "Xgrou8s0mxhH",
        "outputId": "74987a02-bb33-4424-9fd9-d7d5865dd38b"
      },
      "outputs": [
        {
          "output_type": "execute_result",
          "data": {
            "text/plain": [
              "Index(['test_date', 'cough', 'fever', 'sore_throat', 'shortness_of_breath',\n",
              "       'head_ache', 'corona_result', 'age_60_and_above', 'gender',\n",
              "       'test_indication'],\n",
              "      dtype='object')"
            ]
          },
          "metadata": {},
          "execution_count": 18
        }
      ],
      "source": [
        "df.columns"
      ]
    },
    {
      "cell_type": "code",
      "execution_count": null,
      "metadata": {
        "colab": {
          "base_uri": "https://localhost:8080/"
        },
        "id": "2cVyrK_Cckw-",
        "outputId": "b81a3c70-145e-4630-8ad4-e15316d3fdc4"
      },
      "outputs": [
        {
          "output_type": "stream",
          "name": "stdout",
          "text": [
            "\n",
            "\n",
            "test_date, Mode: 0    2020-09-17\n",
            "dtype: object\n",
            "\n",
            "\n",
            "cough, Mode: 0    0\n",
            "dtype: int64\n",
            "\n",
            "\n",
            "fever, Mode: 0    0\n",
            "dtype: int64\n",
            "\n",
            "\n",
            "sore_throat, Mode: 0    0\n",
            "dtype: int64\n",
            "\n",
            "\n",
            "shortness_of_breath, Mode: 0    0\n",
            "dtype: int64\n",
            "\n",
            "\n",
            "head_ache, Mode: 0    0\n",
            "dtype: int64\n",
            "\n",
            "\n",
            "corona_result, Mode: 0    negative\n",
            "dtype: object\n",
            "\n",
            "\n",
            "age_60_and_above, Mode: 0    No\n",
            "dtype: object\n",
            "\n",
            "\n",
            "gender, Mode: 0    female\n",
            "dtype: object\n",
            "\n",
            "\n",
            "test_indication, Mode: 0    Other\n",
            "dtype: object\n"
          ]
        }
      ],
      "source": [
        "# Getting the mode of the columns\n",
        "#using for loops to get the mode of the columns\n",
        "columns1 = ['test_date','cough', 'fever', 'sore_throat', 'shortness_of_breath',\n",
        "       'head_ache', 'corona_result','age_60_and_above', 'gender',\n",
        "       'test_indication']\n",
        "for column in columns1:\n",
        "  print('\\n')\n",
        "  print(column + ', Mode: ' + str(df[column].mode()))"
      ]
    },
    {
      "cell_type": "markdown",
      "metadata": {
        "id": "WpoBGWI7l1YE"
      },
      "source": [
        "##### b) Frequency Tables"
      ]
    },
    {
      "cell_type": "code",
      "execution_count": null,
      "metadata": {
        "colab": {
          "base_uri": "https://localhost:8080/"
        },
        "id": "tnMrI6GjckuM",
        "outputId": "be571d00-0b0c-49ef-8d02-b1bbb999dd5a"
      },
      "outputs": [
        {
          "output_type": "stream",
          "name": "stdout",
          "text": [
            "\n",
            "\n",
            "test_date, Value Counts: 2020-09-17    36557\n",
            "2020-09-24    33271\n",
            "2020-09-22    32491\n",
            "2020-09-23    32331\n",
            "2020-09-15    31323\n",
            "              ...  \n",
            "2020-03-14      732\n",
            "2020-05-16      703\n",
            "2020-03-12      636\n",
            "2020-05-23      597\n",
            "2020-03-11      365\n",
            "Name: test_date, Length: 247, dtype: int64\n",
            "\n",
            "\n",
            "cough, Value Counts: 0    2631258\n",
            "1     111338\n",
            "Name: cough, dtype: int64\n",
            "\n",
            "\n",
            "fever, Value Counts: 0    2645600\n",
            "1      96996\n",
            "Name: fever, dtype: int64\n",
            "\n",
            "\n",
            "sore_throat, Value Counts: 0    2712512\n",
            "1      30084\n",
            "Name: sore_throat, dtype: int64\n",
            "\n",
            "\n",
            "shortness_of_breath, Value Counts: 0    2731579\n",
            "1      11017\n",
            "Name: shortness_of_breath, dtype: int64\n",
            "\n",
            "\n",
            "head_ache, Value Counts: 0    2682655\n",
            "1      59941\n",
            "Name: head_ache, dtype: int64\n",
            "\n",
            "\n",
            "corona_result, Value Counts: negative    2480403\n",
            "positive     220975\n",
            "other         41218\n",
            "Name: corona_result, dtype: int64\n",
            "\n",
            "\n",
            "age_60_and_above, Value Counts: No     1908553\n",
            "Yes     286399\n",
            "Name: age_60_and_above, dtype: int64\n",
            "\n",
            "\n",
            "gender, Value Counts: female    1371444\n",
            "male      1278266\n",
            "Name: gender, dtype: int64\n",
            "\n",
            "\n",
            "test_indication, Value Counts: Other                     2547559\n",
            "Contact with confirmed     170742\n",
            "Abroad                      24295\n",
            "Name: test_indication, dtype: int64\n"
          ]
        }
      ],
      "source": [
        "# Getting the value counts of the variables\n",
        "# creating an array of categrical columns\n",
        "for column in columns1:\n",
        "  print('\\n')\n",
        "  print(column + ', Value Counts: ' + str(df[column].value_counts()))\n",
        "\n"
      ]
    },
    {
      "cell_type": "markdown",
      "metadata": {
        "id": "RB_uwgXOvVim"
      },
      "source": [
        "##### c) Bar Graphs"
      ]
    },
    {
      "cell_type": "code",
      "execution_count": null,
      "metadata": {
        "id": "HTXozkCkvOsj",
        "colab": {
          "base_uri": "https://localhost:8080/",
          "height": 618
        },
        "outputId": "dd5c3b4d-cce7-49d5-96e2-694a383664cf"
      },
      "outputs": [
        {
          "output_type": "display_data",
          "data": {
            "text/plain": [
              "<Figure size 720x720 with 1 Axes>"
            ],
            "image/png": "[encoded data removed]"
          },
          "metadata": {
            "needs_background": "light"
          }
        }
      ],
      "source": [
        "# Plotting Bar Graphs\n",
        "# Bar graph for cough variable\n",
        "plt.figure(figsize = (10,10))\n",
        "df.groupby('cough').size().plot(kind='bar', color='aqua')\n",
        "plt.title('Cough')\n",
        "plt.ylabel('Total')\n",
        "plt.xlabel('Cough')\n",
        "plt.show()"
      ]
    },
    {
      "cell_type": "code",
      "execution_count": null,
      "metadata": {
        "id": "bOnrLA5RvxUM",
        "colab": {
          "base_uri": "https://localhost:8080/",
          "height": 618
        },
        "outputId": "55bdcbe5-89fc-4b61-97c0-ec915b52155e"
      },
      "outputs": [
        {
          "output_type": "display_data",
          "data": {
            "text/plain": [
              "<Figure size 720x720 with 1 Axes>"
            ],
            "image/png": "[encoded data removed]"
          },
          "metadata": {
            "needs_background": "light"
          }
        }
      ],
      "source": [
        "plt.figure(figsize = (10,10))\n",
        "df.groupby('fever').size().plot(kind='bar', color='aqua')\n",
        "plt.title('Fever')\n",
        "plt.ylabel('Total')\n",
        "plt.xlabel('Fever')\n",
        "plt.show()"
      ]
    },
    {
      "cell_type": "code",
      "execution_count": null,
      "metadata": {
        "id": "RUBC8aFTvmu6",
        "colab": {
          "base_uri": "https://localhost:8080/",
          "height": 619
        },
        "outputId": "b78fc0a7-b59a-473f-bfac-cbe3fee80f79"
      },
      "outputs": [
        {
          "output_type": "display_data",
          "data": {
            "text/plain": [
              "<Figure size 720x720 with 1 Axes>"
            ],
            "image/png": "[encoded data removed]"
          },
          "metadata": {
            "needs_background": "light"
          }
        }
      ],
      "source": [
        "plt.figure(figsize = (10,10))\n",
        "df.groupby('sore_throat').size().plot(kind='bar', color='aqua')\n",
        "plt.title('Sore_throat')\n",
        "plt.ylabel('Total')\n",
        "plt.xlabel('Sore_throat')\n",
        "plt.show()"
      ]
    },
    {
      "cell_type": "code",
      "execution_count": null,
      "metadata": {
        "id": "38yDowOhwKSS",
        "colab": {
          "base_uri": "https://localhost:8080/",
          "height": 619
        },
        "outputId": "5f516226-69a9-4764-e1d5-f5bfb3243820"
      },
      "outputs": [
        {
          "output_type": "display_data",
          "data": {
            "text/plain": [
              "<Figure size 720x720 with 1 Axes>"
            ],
            "image/png": "[encoded data removed]"
          },
          "metadata": {
            "needs_background": "light"
          }
        }
      ],
      "source": [
        "plt.figure(figsize = (10,10))\n",
        "df.groupby('shortness_of_breath').size().plot(kind='bar', color='aqua')\n",
        "plt.title('shortness_of_breath')\n",
        "plt.ylabel('Total')\n",
        "plt.xlabel('shortness_of_breath')\n",
        "plt.show()"
      ]
    },
    {
      "cell_type": "code",
      "execution_count": null,
      "metadata": {
        "id": "eaMO31MywWXs",
        "colab": {
          "base_uri": "https://localhost:8080/",
          "height": 619
        },
        "outputId": "071a2c93-2406-42b8-b8e4-c3ea1075643e"
      },
      "outputs": [
        {
          "output_type": "display_data",
          "data": {
            "text/plain": [
              "<Figure size 720x720 with 1 Axes>"
            ],
            "image/png": "[encoded data removed]"
          },
          "metadata": {
            "needs_background": "light"
          }
        }
      ],
      "source": [
        "plt.figure(figsize = (10,10))\n",
        "df.groupby('head_ache').size().plot(kind='bar', color='aqua')\n",
        "plt.title('Head_ache')\n",
        "plt.ylabel('Total')\n",
        "plt.xlabel('Head_ache')\n",
        "plt.show()"
      ]
    },
    {
      "cell_type": "code",
      "execution_count": null,
      "metadata": {
        "id": "7bg6HMrIwoTj",
        "colab": {
          "base_uri": "https://localhost:8080/",
          "height": 656
        },
        "outputId": "1ed1fb7b-9986-41bb-8068-5d4ed5de8696"
      },
      "outputs": [
        {
          "output_type": "display_data",
          "data": {
            "text/plain": [
              "<Figure size 720x720 with 1 Axes>"
            ],
            "image/png": "[encoded data removed]"
          },
          "metadata": {
            "needs_background": "light"
          }
        }
      ],
      "source": [
        "plt.figure(figsize = (10,10))\n",
        "df.groupby('corona_result').size().plot(kind='bar', color='aqua')\n",
        "plt.title('Head_ache')\n",
        "plt.ylabel('Total')\n",
        "plt.xlabel('Head_ache')\n",
        "plt.show()"
      ]
    },
    {
      "cell_type": "code",
      "execution_count": null,
      "metadata": {
        "id": "JLwUMOMdxAjO",
        "colab": {
          "base_uri": "https://localhost:8080/",
          "height": 628
        },
        "outputId": "8ceb2cbc-ecca-4d2e-ee11-928b1356e798"
      },
      "outputs": [
        {
          "output_type": "display_data",
          "data": {
            "text/plain": [
              "<Figure size 720x720 with 1 Axes>"
            ],
            "image/png": "[encoded data removed]"
          },
          "metadata": {
            "needs_background": "light"
          }
        }
      ],
      "source": [
        "plt.figure(figsize = (10,10))\n",
        "df.groupby('age_60_and_above').size().plot(kind='bar', color='aqua')\n",
        "plt.title('age_60_and_above')\n",
        "plt.ylabel('Total')\n",
        "plt.xlabel('age_60_and_above')\n",
        "plt.show()"
      ]
    },
    {
      "cell_type": "code",
      "execution_count": null,
      "metadata": {
        "id": "o1V3kKLBxOQx",
        "colab": {
          "base_uri": "https://localhost:8080/",
          "height": 646
        },
        "outputId": "057da1b3-40d3-45a9-f87b-7dacd5cc50a1"
      },
      "outputs": [
        {
          "output_type": "display_data",
          "data": {
            "text/plain": [
              "<Figure size 720x720 with 1 Axes>"
            ],
            "image/png": "[encoded data removed]"
          },
          "metadata": {
            "needs_background": "light"
          }
        }
      ],
      "source": [
        "plt.figure(figsize = (10,10))\n",
        "df.groupby('gender').size().plot(kind='bar', color='aqua')\n",
        "plt.title('gender')\n",
        "plt.ylabel('Total')\n",
        "plt.xlabel('gender')\n",
        "plt.show()"
      ]
    },
    {
      "cell_type": "code",
      "execution_count": null,
      "metadata": {
        "id": "8xywYGPixO-s",
        "colab": {
          "base_uri": "https://localhost:8080/",
          "height": 729
        },
        "outputId": "692cbdd1-b4bf-432c-d651-126a2055815f"
      },
      "outputs": [
        {
          "output_type": "display_data",
          "data": {
            "text/plain": [
              "<Figure size 720x720 with 1 Axes>"
            ],
            "image/png": "[encoded data removed]"
          },
          "metadata": {
            "needs_background": "light"
          }
        }
      ],
      "source": [
        "plt.figure(figsize = (10,10))\n",
        "df.groupby('test_indication').size().plot(kind='bar', color='aqua')\n",
        "plt.title('test_indication')\n",
        "plt.ylabel('Total')\n",
        "plt.xlabel('test_indication')\n",
        "plt.show()"
      ]
    },
    {
      "cell_type": "markdown",
      "source": [
        "> From most of the bar graphs we can conclude that our dataset is imbalanced."
      ],
      "metadata": {
        "id": "78az6nTBMlvf"
      }
    },
    {
      "cell_type": "markdown",
      "metadata": {
        "id": "0AtxQWN5zDW8"
      },
      "source": [
        "### 5.2 Bivariate Analysis."
      ]
    },
    {
      "cell_type": "code",
      "source": [
        "# convert categorical data to numerical using the label encoder technique\n",
        "from sklearn.preprocessing import LabelEncoder\n",
        "df_sample = df_sample.apply(LabelEncoder().fit_transform)"
      ],
      "metadata": {
        "id": "xaWOf704tUAY"
      },
      "execution_count": null,
      "outputs": []
    },
    {
      "cell_type": "code",
      "execution_count": null,
      "metadata": {
        "id": "XhLWNirV3TsC",
        "colab": {
          "base_uri": "https://localhost:8080/"
        },
        "outputId": "ac69c30f-5fd0-4e1c-929a-5e6b29fd85f6"
      },
      "outputs": [
        {
          "output_type": "execute_result",
          "data": {
            "text/plain": [
              "test_date              object\n",
              "cough                   int64\n",
              "fever                   int64\n",
              "sore_throat             int64\n",
              "shortness_of_breath     int64\n",
              "head_ache               int64\n",
              "corona_result          object\n",
              "age_60_and_above       object\n",
              "gender                 object\n",
              "test_indication        object\n",
              "dtype: object"
            ]
          },
          "metadata": {},
          "execution_count": 32
        }
      ],
      "source": [
        "df1.dtypes"
      ]
    },
    {
      "cell_type": "code",
      "execution_count": null,
      "metadata": {
        "id": "WjnT6XCu0T1Q",
        "colab": {
          "base_uri": "https://localhost:8080/",
          "height": 502
        },
        "outputId": "96dda511-e31d-483d-926e-e637eb254d16"
      },
      "outputs": [
        {
          "output_type": "display_data",
          "data": {
            "text/plain": [
              "<Figure size 936x576 with 2 Axes>"
            ],
            "image/png": "[encoded data removed]"
          },
          "metadata": {
            "needs_background": "light"
          }
        }
      ],
      "source": [
        "# Plotting a heatmap to show correlations between variables\n",
        "#\n",
        "corr = df.corr()\n",
        "plt.figure(figsize = (13, 8))\n",
        "sns.heatmap(corr, cmap='RdYlGn', annot = True, center = 0)\n",
        "plt.title('Correlogram', fontsize = 15, color = 'darkgreen')\n",
        "plt.show()"
      ]
    },
    {
      "cell_type": "markdown",
      "source": [
        "> From the correlation heat map we can see that most of the variables had a low correlation with each of the other variables."
      ],
      "metadata": {
        "id": "NUGzVx58M0IT"
      }
    },
    {
      "cell_type": "markdown",
      "metadata": {
        "id": "k6YP3spD5wGN"
      },
      "source": [
        "### 5.2 Multivariate Analysis."
      ]
    },
    {
      "cell_type": "code",
      "execution_count": null,
      "metadata": {
        "id": "kceehgLn5ye7"
      },
      "outputs": [],
      "source": [
        "# Dividing the dataset into feature and target variables\n",
        "X = df_sample.drop('corona_result', 1)\n",
        "y = df_sample['corona_result']"
      ]
    },
    {
      "cell_type": "code",
      "execution_count": null,
      "metadata": {
        "id": "sLAIg9cj6VbQ",
        "colab": {
          "base_uri": "https://localhost:8080/"
        },
        "outputId": "156eb76f-63fb-40de-bf9d-88518d3c359e"
      },
      "outputs": [
        {
          "output_type": "execute_result",
          "data": {
            "text/plain": [
              "array([[ 0.00869142,  0.38923866,  3.81431986,  4.21439013,  3.87662991,\n",
              "         6.23635414,  0.11302215, -4.39500805]])"
            ]
          },
          "metadata": {},
          "execution_count": 25
        }
      ],
      "source": [
        "lda = LDA(solver='eigen',shrinkage='auto')\n",
        "X_lda = lda.fit(X,y)\n",
        "lda_feat = X_lda.transform(X)\n",
        "#Display the coefficients of the reducted colums\n",
        "X_lda.coef_"
      ]
    },
    {
      "cell_type": "code",
      "execution_count": null,
      "metadata": {
        "id": "RGVYRqrH7sqX",
        "colab": {
          "base_uri": "https://localhost:8080/",
          "height": 300
        },
        "outputId": "f86433a4-3e0d-420e-c9d2-1d664b160aa5"
      },
      "outputs": [
        {
          "output_type": "execute_result",
          "data": {
            "text/plain": [
              "                            0\n",
              "head_ache            6.236354\n",
              "sore_throat          4.214390\n",
              "shortness_of_breath  3.876630\n",
              "fever                3.814320\n",
              "cough                0.389239\n",
              "gender               0.113022\n",
              "test_date            0.008691\n",
              "test_indication     -4.395008"
            ],
            "text/html": [
              "\n",
              "  <div id=\"df-efd2cc71-6719-45a7-adb6-f5767318d01b\">\n",
              "    <div class=\"colab-df-container\">\n",
              "      <div>\n",
              "<style scoped>\n",
              "    .dataframe tbody tr th:only-of-type {\n",
              "        vertical-align: middle;\n",
              "    }\n",
              "\n",
              "    .dataframe tbody tr th {\n",
              "        vertical-align: top;\n",
              "    }\n",
              "\n",
              "    .dataframe thead th {\n",
              "        text-align: right;\n",
              "    }\n",
              "</style>\n",
              "<table border=\"1\" class=\"dataframe\">\n",
              "  <thead>\n",
              "    <tr style=\"text-align: right;\">\n",
              "      <th></th>\n",
              "      <th>0</th>\n",
              "    </tr>\n",
              "  </thead>\n",
              "  <tbody>\n",
              "    <tr>\n",
              "      <th>head_ache</th>\n",
              "      <td>6.236354</td>\n",
              "    </tr>\n",
              "    <tr>\n",
              "      <th>sore_throat</th>\n",
              "      <td>4.214390</td>\n",
              "    </tr>\n",
              "    <tr>\n",
              "      <th>shortness_of_breath</th>\n",
              "      <td>3.876630</td>\n",
              "    </tr>\n",
              "    <tr>\n",
              "      <th>fever</th>\n",
              "      <td>3.814320</td>\n",
              "    </tr>\n",
              "    <tr>\n",
              "      <th>cough</th>\n",
              "      <td>0.389239</td>\n",
              "    </tr>\n",
              "    <tr>\n",
              "      <th>gender</th>\n",
              "      <td>0.113022</td>\n",
              "    </tr>\n",
              "    <tr>\n",
              "      <th>test_date</th>\n",
              "      <td>0.008691</td>\n",
              "    </tr>\n",
              "    <tr>\n",
              "      <th>test_indication</th>\n",
              "      <td>-4.395008</td>\n",
              "    </tr>\n",
              "  </tbody>\n",
              "</table>\n",
              "</div>\n",
              "      <button class=\"colab-df-convert\" onclick=\"convertToInteractive('df-efd2cc71-6719-45a7-adb6-f5767318d01b')\"\n",
              "              title=\"Convert this dataframe to an interactive table.\"\n",
              "              style=\"display:none;\">\n",
              "        \n",
              "  <svg xmlns=\"http://www.w3.org/2000/svg\" height=\"24px\"viewBox=\"0 0 24 24\"\n",
              "       width=\"24px\">\n",
              "    <path d=\"M0 0h24v24H0V0z\" fill=\"none\"/>\n",
              "    <path d=\"M18.56 5.44l.94 2.06.94-2.06 2.06-.94-2.06-.94-.94-2.06-.94 2.06-2.06.94zm-11 1L8.5 8.5l.94-2.06 2.06-.94-2.06-.94L8.5 2.5l-.94 2.06-2.06.94zm10 10l.94 2.06.94-2.06 2.06-.94-2.06-.94-.94-2.06-.94 2.06-2.06.94z\"/><path d=\"M17.41 7.96l-1.37-1.37c-.4-.4-.92-.59-1.43-.59-.52 0-1.04.2-1.43.59L10.3 9.45l-7.72 7.72c-.78.78-.78 2.05 0 2.83L4 21.41c.39.39.9.59 1.41.59.51 0 1.02-.2 1.41-.59l7.78-7.78 2.81-2.81c.8-.78.8-2.07 0-2.86zM5.41 20L4 18.59l7.72-7.72 1.47 1.35L5.41 20z\"/>\n",
              "  </svg>\n",
              "      </button>\n",
              "      \n",
              "  <style>\n",
              "    .colab-df-container {\n",
              "      display:flex;\n",
              "      flex-wrap:wrap;\n",
              "      gap: 12px;\n",
              "    }\n",
              "\n",
              "    .colab-df-convert {\n",
              "      background-color: #E8F0FE;\n",
              "      border: none;\n",
              "      border-radius: 50%;\n",
              "      cursor: pointer;\n",
              "      display: none;\n",
              "      fill: #1967D2;\n",
              "      height: 32px;\n",
              "      padding: 0 0 0 0;\n",
              "      width: 32px;\n",
              "    }\n",
              "\n",
              "    .colab-df-convert:hover {\n",
              "      background-color: #E2EBFA;\n",
              "      box-shadow: 0px 1px 2px rgba(60, 64, 67, 0.3), 0px 1px 3px 1px rgba(60, 64, 67, 0.15);\n",
              "      fill: #174EA6;\n",
              "    }\n",
              "\n",
              "    [theme=dark] .colab-df-convert {\n",
              "      background-color: #3B4455;\n",
              "      fill: #D2E3FC;\n",
              "    }\n",
              "\n",
              "    [theme=dark] .colab-df-convert:hover {\n",
              "      background-color: #434B5C;\n",
              "      box-shadow: 0px 1px 3px 1px rgba(0, 0, 0, 0.15);\n",
              "      filter: drop-shadow(0px 1px 2px rgba(0, 0, 0, 0.3));\n",
              "      fill: #FFFFFF;\n",
              "    }\n",
              "  </style>\n",
              "\n",
              "      <script>\n",
              "        const buttonEl =\n",
              "          document.querySelector('#df-efd2cc71-6719-45a7-adb6-f5767318d01b button.colab-df-convert');\n",
              "        buttonEl.style.display =\n",
              "          google.colab.kernel.accessAllowed ? 'block' : 'none';\n",
              "\n",
              "        async function convertToInteractive(key) {\n",
              "          const element = document.querySelector('#df-efd2cc71-6719-45a7-adb6-f5767318d01b');\n",
              "          const dataTable =\n",
              "            await google.colab.kernel.invokeFunction('convertToInteractive',\n",
              "                                                     [key], {});\n",
              "          if (!dataTable) return;\n",
              "\n",
              "          const docLinkHtml = 'Like what you see? Visit the ' +\n",
              "            '<a target=\"_blank\" href=https://colab.research.google.com/notebooks/data_table.ipynb>data table notebook</a>'\n",
              "            + ' to learn more about interactive tables.';\n",
              "          element.innerHTML = '';\n",
              "          dataTable['output_type'] = 'display_data';\n",
              "          await google.colab.output.renderOutput(dataTable, element);\n",
              "          const docLink = document.createElement('div');\n",
              "          docLink.innerHTML = docLinkHtml;\n",
              "          element.appendChild(docLink);\n",
              "        }\n",
              "      </script>\n",
              "    </div>\n",
              "  </div>\n",
              "  "
            ]
          },
          "metadata": {},
          "execution_count": 26
        }
      ],
      "source": [
        "#Since the coefficients are in array, we need to create a dataframe so that we can extract the name of the columns\n",
        "lda_df = pd.DataFrame(index=X.columns.values, data=X_lda.coef_[0].T)\n",
        "lda_df.sort_values(0, ascending=False)"
      ]
    },
    {
      "cell_type": "markdown",
      "metadata": {
        "id": "XUjb-HIU9EN0"
      },
      "source": [
        "The factors that influence the outcome of a hypothyroid test include: test indication, sore throat, cough and headache. \n",
        "\n",
        "Weakly determinants include fever, gender, age60 and above and test date\n",
        "\n",
        "The rest do not."
      ]
    },
    {
      "cell_type": "markdown",
      "metadata": {
        "id": "xPM65fmlLLeY"
      },
      "source": [
        "## 7. Creating the models."
      ]
    },
    {
      "cell_type": "markdown",
      "metadata": {
        "id": "PXMnljd0LgzY"
      },
      "source": [
        "### 7.1 Logistic Regression Model"
      ]
    },
    {
      "cell_type": "markdown",
      "metadata": {
        "id": "r27mbZqiZ8mz"
      },
      "source": [
        "#### 7.1.1 Base Model"
      ]
    },
    {
      "cell_type": "code",
      "execution_count": null,
      "metadata": {
        "id": "smONc-YdLPyF"
      },
      "outputs": [],
      "source": [
        "# Dividing the dataset into feature and target variables\n",
        "X = df_sample.drop('corona_result', 1)\n",
        "y = df_sample['corona_result']"
      ]
    },
    {
      "cell_type": "code",
      "execution_count": null,
      "metadata": {
        "id": "475UEsyWK-yQ",
        "colab": {
          "base_uri": "https://localhost:8080/"
        },
        "outputId": "c46e6611-c164-4296-f22f-0e5812c810a4"
      },
      "outputs": [
        {
          "output_type": "stream",
          "name": "stdout",
          "text": [
            "(140000, 8)\n",
            "(60000, 8)\n",
            "(140000,)\n",
            "(60000,)\n"
          ]
        }
      ],
      "source": [
        "# Splitting the data into training and testing sets\n",
        "#\n",
        "X_train, X_test, y_train, y_test = train_test_split(X, y, test_size = 0.3, random_state = 0)\n",
        "print(X_train.shape)\n",
        "print(X_test.shape)\n",
        "print(y_train.shape)\n",
        "print(y_test.shape)"
      ]
    },
    {
      "cell_type": "code",
      "execution_count": null,
      "metadata": {
        "id": "FGhM_XEGPos8",
        "colab": {
          "base_uri": "https://localhost:8080/"
        },
        "outputId": "1b56b5e1-c0a8-4c01-9072-e5071abc7ebc"
      },
      "outputs": [
        {
          "output_type": "execute_result",
          "data": {
            "text/plain": [
              "LogisticRegression()"
            ]
          },
          "metadata": {},
          "execution_count": 36
        }
      ],
      "source": [
        "# Fitting our model\n",
        "# \n",
        "LogReg = LogisticRegression()\n",
        "LogReg.fit(X_train, y_train)"
      ]
    },
    {
      "cell_type": "code",
      "execution_count": null,
      "metadata": {
        "id": "bxdq8WlnPrWw"
      },
      "outputs": [],
      "source": [
        "# Using our model to make a prediction\n",
        "#\n",
        "y_pred = LogReg.predict(X_test)"
      ]
    },
    {
      "cell_type": "code",
      "execution_count": null,
      "metadata": {
        "id": "v0nSNDkgSCDh",
        "colab": {
          "base_uri": "https://localhost:8080/"
        },
        "outputId": "a9ef0d66-f82b-448c-fe09-3406e3b90c67"
      },
      "outputs": [
        {
          "output_type": "stream",
          "name": "stdout",
          "text": [
            "The accuracy score is: 0.9277833333333333\n",
            "\n",
            "\n",
            "              precision    recall  f1-score   support\n",
            "\n",
            "           0       0.94      0.99      0.96     55110\n",
            "           1       0.65      0.25      0.36      4890\n",
            "\n",
            "    accuracy                           0.93     60000\n",
            "   macro avg       0.79      0.62      0.66     60000\n",
            "weighted avg       0.91      0.93      0.91     60000\n",
            "\n"
          ]
        },
        {
          "output_type": "execute_result",
          "data": {
            "text/plain": [
              "array([[54460,   650],\n",
              "       [ 3683,  1207]])"
            ]
          },
          "metadata": {},
          "execution_count": 38
        }
      ],
      "source": [
        "# Evaluating the model\n",
        "#\n",
        "from sklearn.metrics import confusion_matrix\n",
        "\n",
        "print(f'The accuracy score is: {accuracy_score(y_test, y_pred)}')\n",
        "print('\\n')\n",
        "print(f'{classification_report(y_test, y_pred)}')\n",
        "confusion_matrix(y_test, y_pred)"
      ]
    },
    {
      "cell_type": "markdown",
      "source": [
        "> Though the accuracy is high, recall is low as well as precision. Since this is model deals with diagnosing a health condition we will need to balance the dataset and optimize our models in order to increase recall.\n",
        "> The confusion matrix shows that our model has misclassified a lot of records."
      ],
      "metadata": {
        "id": "I8UXyNdlNMeZ"
      }
    },
    {
      "cell_type": "markdown",
      "source": [
        "#### 7.1.2 Balancing the imbalanced dataset"
      ],
      "metadata": {
        "id": "Lr-rThPYfbRv"
      }
    },
    {
      "cell_type": "code",
      "source": [
        "# installing scikit_plot for visualizing the imbalanced dataset\n",
        "!pip install scikit-plot"
      ],
      "metadata": {
        "id": "xT9-oiz9VuNv",
        "colab": {
          "base_uri": "https://localhost:8080/"
        },
        "outputId": "bd79640e-8ae9-444c-f5e0-53a0b9a866ba"
      },
      "execution_count": null,
      "outputs": [
        {
          "output_type": "stream",
          "name": "stdout",
          "text": [
            "Collecting scikit-plot\n",
            "  Downloading scikit_plot-0.3.7-py3-none-any.whl (33 kB)\n",
            "Requirement already satisfied: scipy>=0.9 in /usr/local/lib/python3.7/dist-packages (from scikit-plot) (1.4.1)\n",
            "Requirement already satisfied: matplotlib>=1.4.0 in /usr/local/lib/python3.7/dist-packages (from scikit-plot) (3.2.2)\n",
            "Requirement already satisfied: scikit-learn>=0.18 in /usr/local/lib/python3.7/dist-packages (from scikit-plot) (1.0.2)\n",
            "Requirement already satisfied: joblib>=0.10 in /usr/local/lib/python3.7/dist-packages (from scikit-plot) (1.1.0)\n",
            "Requirement already satisfied: python-dateutil>=2.1 in /usr/local/lib/python3.7/dist-packages (from matplotlib>=1.4.0->scikit-plot) (2.8.2)\n",
            "Requirement already satisfied: pyparsing!=2.0.4,!=2.1.2,!=2.1.6,>=2.0.1 in /usr/local/lib/python3.7/dist-packages (from matplotlib>=1.4.0->scikit-plot) (3.0.7)\n",
            "Requirement already satisfied: kiwisolver>=1.0.1 in /usr/local/lib/python3.7/dist-packages (from matplotlib>=1.4.0->scikit-plot) (1.3.2)\n",
            "Requirement already satisfied: numpy>=1.11 in /usr/local/lib/python3.7/dist-packages (from matplotlib>=1.4.0->scikit-plot) (1.21.5)\n",
            "Requirement already satisfied: cycler>=0.10 in /usr/local/lib/python3.7/dist-packages (from matplotlib>=1.4.0->scikit-plot) (0.11.0)\n",
            "Requirement already satisfied: six>=1.5 in /usr/local/lib/python3.7/dist-packages (from python-dateutil>=2.1->matplotlib>=1.4.0->scikit-plot) (1.15.0)\n",
            "Requirement already satisfied: threadpoolctl>=2.0.0 in /usr/local/lib/python3.7/dist-packages (from scikit-learn>=0.18->scikit-plot) (3.1.0)\n",
            "Installing collected packages: scikit-plot\n",
            "Successfully installed scikit-plot-0.3.7\n"
          ]
        }
      ]
    },
    {
      "cell_type": "code",
      "source": [
        "# Visualising the imbalanced dataset\n",
        "import matplotlib.pyplot as plt\n",
        "count = y_train.value_counts()\n",
        "count.plot.bar()\n",
        "plt.ylabel('Number of records')\n",
        "plt.xlabel('Target Class')\n",
        "plt.show()"
      ],
      "metadata": {
        "id": "6g_LVxOsBKa5",
        "colab": {
          "base_uri": "https://localhost:8080/",
          "height": 276
        },
        "outputId": "7ea30e35-82e8-4f1b-bbe2-fe5085d81bc3"
      },
      "execution_count": null,
      "outputs": [
        {
          "output_type": "display_data",
          "data": {
            "text/plain": [
              "<Figure size 432x288 with 1 Axes>"
            ],
            "image/png": "[encoded data removed]"
          },
          "metadata": {
            "needs_background": "light"
          }
        }
      ]
    },
    {
      "cell_type": "code",
      "source": [
        "# Plotting ROC Curve of the imbalanced dataset\n",
        "from sklearn.neighbors import KNeighborsClassifier\n",
        "from scikitplot.metrics import plot_roc\n",
        "from scikitplot.metrics import plot_precision_recall\n",
        "model = KNeighborsClassifier(n_neighbors=5)\n",
        "model.fit(X_train, y_train)\n",
        "y_score = model.predict_proba(X_test)\n",
        "y_pred = model.predict(X_test)\n",
        "# Plot metrics \n",
        "plot_roc(y_test, y_score)\n",
        "plt.show()\n",
        "    \n",
        "plot_precision_recall(y_test, y_score)\n",
        "plt.show()"
      ],
      "metadata": {
        "id": "jOsCBkskB_k5",
        "colab": {
          "base_uri": "https://localhost:8080/",
          "height": 573
        },
        "outputId": "85990be2-70c6-4cee-db83-dd5f77f16923"
      },
      "execution_count": null,
      "outputs": [
        {
          "output_type": "display_data",
          "data": {
            "text/plain": [
              "<Figure size 432x288 with 1 Axes>"
            ],
            "image/png": "[encoded data removed]"
          },
          "metadata": {
            "needs_background": "light"
          }
        },
        {
          "output_type": "display_data",
          "data": {
            "text/plain": [
              "<Figure size 432x288 with 1 Axes>"
            ],
            "image/png": "[encoded data removed]"
          },
          "metadata": {
            "needs_background": "light"
          }
        }
      ]
    },
    {
      "cell_type": "code",
      "source": [
        "\n"
      ],
      "metadata": {
        "id": "GXFyI7Ez1h4Z"
      },
      "execution_count": null,
      "outputs": []
    },
    {
      "cell_type": "code",
      "source": [
        "#defining a threshold which splits majority and minority classes\n",
        "import numpy as np\n",
        "n_samples = int(count.median())\n",
        "n_samples"
      ],
      "metadata": {
        "id": "O38KjBHTCKLd",
        "colab": {
          "base_uri": "https://localhost:8080/"
        },
        "outputId": "75ef58b0-0f34-4f52-d1c7-36cfcd126588"
      },
      "execution_count": null,
      "outputs": [
        {
          "output_type": "execute_result",
          "data": {
            "text/plain": [
              "70000"
            ]
          },
          "metadata": {},
          "execution_count": 43
        }
      ]
    },
    {
      "cell_type": "code",
      "source": [
        "# define a utility function which receives as input the dataset,\n",
        "# the threshold (n_samples) and the involved classes (majority or minority)\n",
        "# This function returns a dict which contains \n",
        "# the number of desired samples for each class belonging to the involved classes.\n",
        "def sampling_strategy(X,y,n_samples, t='majority'):\n",
        "    target_classes = ''\n",
        "    if t == 'majority':\n",
        "        target_classes = y.value_counts() > n_samples\n",
        "    elif t == 'minority':\n",
        "        target_classes = y.value_counts() < n_samples\n",
        "    tc = target_classes[target_classes == True].index\n",
        "    #target_classes_all = y.value_counts().index\n",
        "    sampling_strategy = {}\n",
        "    for target in tc:\n",
        "        sampling_strategy[target] = n_samples\n",
        "    return sampling_strategy"
      ],
      "metadata": {
        "id": "zhhh1J6pDBta"
      },
      "execution_count": null,
      "outputs": []
    },
    {
      "cell_type": "code",
      "source": [
        "#I perform undersampling of the majority classes\n",
        "from imblearn.under_sampling import RandomUnderSampler\n",
        "under_sampler = RandomUnderSampler(sampling_strategy=sampling_strategy(X_train,y_train,n_samples,t='majority'))\n"
      ],
      "metadata": {
        "id": "U7aB98exDbx1"
      },
      "execution_count": null,
      "outputs": []
    },
    {
      "cell_type": "code",
      "source": [
        "# Fitting the under_sampler\n",
        "X_under, y_under = under_sampler.fit_resample(X_train, y_train)"
      ],
      "metadata": {
        "id": "PLK2agBA-g-W"
      },
      "execution_count": null,
      "outputs": []
    },
    {
      "cell_type": "code",
      "source": [
        "from imblearn.over_sampling import SMOTE\n",
        "over_sampler = SMOTE(sampling_strategy=sampling_strategy(X_under, y_under,n_samples, t='minority'),k_neighbors=2)\n"
      ],
      "metadata": {
        "id": "G_dXaRiE-vqY"
      },
      "execution_count": null,
      "outputs": []
    },
    {
      "cell_type": "code",
      "source": [
        "X_bal, y_bal = over_sampler.fit_resample(X_under, y_under)"
      ],
      "metadata": {
        "id": "LjJNMiHR-1pX"
      },
      "execution_count": null,
      "outputs": []
    },
    {
      "cell_type": "code",
      "source": [
        "(X_bal.shape, y_bal.shape)"
      ],
      "metadata": {
        "colab": {
          "base_uri": "https://localhost:8080/"
        },
        "id": "7Wz9AWVI-3-J",
        "outputId": "16b4640a-bed1-48fa-fcad-364eee89fda4"
      },
      "execution_count": null,
      "outputs": [
        {
          "output_type": "execute_result",
          "data": {
            "text/plain": [
              "((140000, 8), (140000,))"
            ]
          },
          "metadata": {},
          "execution_count": 49
        }
      ]
    },
    {
      "cell_type": "code",
      "source": [
        "df_sample.columns"
      ],
      "metadata": {
        "colab": {
          "base_uri": "https://localhost:8080/"
        },
        "id": "74jS5sxAprt_",
        "outputId": "fb6af286-0ca8-46d4-ccb4-0e8e3a60fd74"
      },
      "execution_count": null,
      "outputs": [
        {
          "output_type": "execute_result",
          "data": {
            "text/plain": [
              "Index(['test_date', 'cough', 'fever', 'sore_throat', 'shortness_of_breath',\n",
              "       'head_ache', 'corona_result', 'gender', 'test_indication'],\n",
              "      dtype='object')"
            ]
          },
          "metadata": {},
          "execution_count": 54
        }
      ]
    },
    {
      "cell_type": "markdown",
      "source": [
        "#### 7.1.2 Creating an RNN model with the balanced dataset"
      ],
      "metadata": {
        "id": "JCiVHQys7v5I"
      }
    },
    {
      "cell_type": "code",
      "source": [
        "# Dividing the dataset into feature and target variables\n",
        "X = df_sample.drop('corona_result',1)\n",
        "y = df_sample['corona_result']\n",
        "#\n",
        "# Splitting the data into training and testing sets\n",
        "#\n",
        "X_train, X_test, y_train, y_test = train_test_split(X, y, test_size = 0.3, random_state = 0)\n",
        "#\n",
        "# Building the model\n",
        "model = Sequential()\n",
        "model.add(Dense(20, activation='relu', input_shape=(X_train.shape[1],)))   \n",
        "model.add(Dense(10, activation='relu'))\n",
        "model.add(Dense(5, activation='relu'))\n",
        "model.add(Dense(1, activation='sigmoid'))      "
      ],
      "metadata": {
        "id": "B5jeIBm6q1sv"
      },
      "execution_count": null,
      "outputs": []
    },
    {
      "cell_type": "code",
      "source": [
        "# Compiling the model\n",
        "from tensorflow.keras.optimizers import RMSprop\n",
        "optimizer = RMSprop(0.001)  # Here, we have set our learning rate as 0.001\n",
        "model.compile(loss='binary_crossentropy', optimizer= optimizer , metrics=['accuracy'])"
      ],
      "metadata": {
        "id": "n-30XQ4gvc7P"
      },
      "execution_count": null,
      "outputs": []
    },
    {
      "cell_type": "code",
      "source": [
        "# printing the summary of the model\n",
        "model.summary()"
      ],
      "metadata": {
        "colab": {
          "base_uri": "https://localhost:8080/"
        },
        "id": "bieW4l36vjme",
        "outputId": "c7ac9efe-78db-49a8-b9b1-13160dde8964"
      },
      "execution_count": null,
      "outputs": [
        {
          "output_type": "stream",
          "name": "stdout",
          "text": [
            "Model: \"sequential_1\"\n",
            "_________________________________________________________________\n",
            " Layer (type)                Output Shape              Param #   \n",
            "=================================================================\n",
            " dense_4 (Dense)             (None, 20)                180       \n",
            "                                                                 \n",
            " dense_5 (Dense)             (None, 10)                210       \n",
            "                                                                 \n",
            " dense_6 (Dense)             (None, 5)                 55        \n",
            "                                                                 \n",
            " dense_7 (Dense)             (None, 1)                 6         \n",
            "                                                                 \n",
            "=================================================================\n",
            "Total params: 451\n",
            "Trainable params: 451\n",
            "Non-trainable params: 0\n",
            "_________________________________________________________________\n"
          ]
        }
      ]
    },
    {
      "cell_type": "code",
      "source": [
        "# plotting the model\n",
        "from tensorflow.keras.utils import plot_model\n",
        "plot_model(model)"
      ],
      "metadata": {
        "colab": {
          "base_uri": "https://localhost:8080/",
          "height": 466
        },
        "id": "JQk2qKWBvn7Q",
        "outputId": "ee94fb94-0b08-4b5a-c7a0-b5170761d713"
      },
      "execution_count": null,
      "outputs": [
        {
          "output_type": "execute_result",
          "data": {
            "text/plain": [
              "<IPython.core.display.Image object>"
            ],
            "image/png": "[encoded data removed]"
          },
          "metadata": {},
          "execution_count": 60
        }
      ]
    },
    {
      "cell_type": "code",
      "source": [
        "history = model.fit(X_train, y_train, validation_split=0.2, epochs=200, batch_size=10, verbose=1)"
      ],
      "metadata": {
        "colab": {
          "base_uri": "https://localhost:8080/"
        },
        "id": "4JkFBo-mvtmt",
        "outputId": "9f34c6c6-b251-42c1-c035-36ef27610d07"
      },
      "execution_count": null,
      "outputs": [
        {
          "output_type": "stream",
          "name": "stdout",
          "text": [
            "Epoch 1/200\n",
            "11200/11200 [==============================] - 24s 2ms/step - loss: 0.2469 - accuracy: 0.9244 - val_loss: 0.1917 - val_accuracy: 0.9329\n",
            "Epoch 2/200\n",
            "11200/11200 [==============================] - 25s 2ms/step - loss: 0.2120 - accuracy: 0.9310 - val_loss: 0.1930 - val_accuracy: 0.9340\n",
            "Epoch 3/200\n",
            "11200/11200 [==============================] - 20s 2ms/step - loss: 0.2052 - accuracy: 0.9323 - val_loss: 0.1848 - val_accuracy: 0.9362\n",
            "Epoch 4/200\n",
            "11200/11200 [==============================] - 21s 2ms/step - loss: 0.2041 - accuracy: 0.9325 - val_loss: 0.1982 - val_accuracy: 0.9299\n",
            "Epoch 5/200\n",
            "11200/11200 [==============================] - 23s 2ms/step - loss: 0.2022 - accuracy: 0.9328 - val_loss: 0.1868 - val_accuracy: 0.9340\n",
            "Epoch 6/200\n",
            "11200/11200 [==============================] - 22s 2ms/step - loss: 0.1992 - accuracy: 0.9342 - val_loss: 0.1895 - val_accuracy: 0.9385\n",
            "Epoch 7/200\n",
            "11200/11200 [==============================] - 22s 2ms/step - loss: 0.2004 - accuracy: 0.9338 - val_loss: 0.2094 - val_accuracy: 0.9304\n",
            "Epoch 8/200\n",
            "11200/11200 [==============================] - 22s 2ms/step - loss: 0.2018 - accuracy: 0.9332 - val_loss: 0.2028 - val_accuracy: 0.9351\n",
            "Epoch 9/200\n",
            "11200/11200 [==============================] - 20s 2ms/step - loss: 0.2013 - accuracy: 0.9327 - val_loss: 0.1849 - val_accuracy: 0.9358\n",
            "Epoch 10/200\n",
            "11200/11200 [==============================] - 23s 2ms/step - loss: 0.1998 - accuracy: 0.9341 - val_loss: 0.1857 - val_accuracy: 0.9361\n",
            "Epoch 11/200\n",
            "11200/11200 [==============================] - 19s 2ms/step - loss: 0.1992 - accuracy: 0.9347 - val_loss: 0.2101 - val_accuracy: 0.9360\n",
            "Epoch 12/200\n",
            "11200/11200 [==============================] - 22s 2ms/step - loss: 0.1980 - accuracy: 0.9346 - val_loss: 0.1996 - val_accuracy: 0.9390\n",
            "Epoch 13/200\n",
            "11200/11200 [==============================] - 19s 2ms/step - loss: 0.1984 - accuracy: 0.9344 - val_loss: 0.1851 - val_accuracy: 0.9382\n",
            "Epoch 14/200\n",
            "11200/11200 [==============================] - 20s 2ms/step - loss: 0.1981 - accuracy: 0.9344 - val_loss: 0.1838 - val_accuracy: 0.9391\n",
            "Epoch 15/200\n",
            "11200/11200 [==============================] - 22s 2ms/step - loss: 0.1981 - accuracy: 0.9342 - val_loss: 0.1914 - val_accuracy: 0.9355\n",
            "Epoch 16/200\n",
            "11200/11200 [==============================] - 22s 2ms/step - loss: 0.1969 - accuracy: 0.9348 - val_loss: 0.1929 - val_accuracy: 0.9356\n",
            "Epoch 17/200\n",
            "11200/11200 [==============================] - 19s 2ms/step - loss: 0.1955 - accuracy: 0.9353 - val_loss: 0.2049 - val_accuracy: 0.9389\n",
            "Epoch 18/200\n",
            "11200/11200 [==============================] - 19s 2ms/step - loss: 0.1959 - accuracy: 0.9350 - val_loss: 0.1845 - val_accuracy: 0.9380\n",
            "Epoch 19/200\n",
            "11200/11200 [==============================] - 22s 2ms/step - loss: 0.1956 - accuracy: 0.9346 - val_loss: 0.1833 - val_accuracy: 0.9391\n",
            "Epoch 20/200\n",
            "11200/11200 [==============================] - 22s 2ms/step - loss: 0.1987 - accuracy: 0.9350 - val_loss: 0.1996 - val_accuracy: 0.9383\n",
            "Epoch 21/200\n",
            "11200/11200 [==============================] - 22s 2ms/step - loss: 0.1968 - accuracy: 0.9350 - val_loss: 0.1938 - val_accuracy: 0.9394\n",
            "Epoch 22/200\n",
            "11200/11200 [==============================] - 19s 2ms/step - loss: 0.1961 - accuracy: 0.9354 - val_loss: 0.2029 - val_accuracy: 0.9362\n",
            "Epoch 23/200\n",
            "11200/11200 [==============================] - 20s 2ms/step - loss: 0.1963 - accuracy: 0.9348 - val_loss: 0.1842 - val_accuracy: 0.9348\n",
            "Epoch 24/200\n",
            "11200/11200 [==============================] - 20s 2ms/step - loss: 0.1955 - accuracy: 0.9350 - val_loss: 0.2178 - val_accuracy: 0.9344\n",
            "Epoch 25/200\n",
            "11200/11200 [==============================] - 20s 2ms/step - loss: 0.1953 - accuracy: 0.9353 - val_loss: 0.2054 - val_accuracy: 0.9315\n",
            "Epoch 26/200\n",
            "11200/11200 [==============================] - 19s 2ms/step - loss: 0.1951 - accuracy: 0.9349 - val_loss: 0.1837 - val_accuracy: 0.9399\n",
            "Epoch 27/200\n",
            "11200/11200 [==============================] - 22s 2ms/step - loss: 0.1953 - accuracy: 0.9348 - val_loss: 0.1809 - val_accuracy: 0.9393\n",
            "Epoch 28/200\n",
            "11200/11200 [==============================] - 22s 2ms/step - loss: 0.1948 - accuracy: 0.9354 - val_loss: 0.1823 - val_accuracy: 0.9388\n",
            "Epoch 29/200\n",
            "11200/11200 [==============================] - 22s 2ms/step - loss: 0.1946 - accuracy: 0.9353 - val_loss: 0.2370 - val_accuracy: 0.9302\n",
            "Epoch 30/200\n",
            "11200/11200 [==============================] - 19s 2ms/step - loss: 0.1941 - accuracy: 0.9358 - val_loss: 0.2028 - val_accuracy: 0.9388\n",
            "Epoch 31/200\n",
            "11200/11200 [==============================] - 19s 2ms/step - loss: 0.1950 - accuracy: 0.9352 - val_loss: 0.1826 - val_accuracy: 0.9349\n",
            "Epoch 32/200\n",
            "11200/11200 [==============================] - 19s 2ms/step - loss: 0.1945 - accuracy: 0.9359 - val_loss: 0.1944 - val_accuracy: 0.9390\n",
            "Epoch 33/200\n",
            "11200/11200 [==============================] - 24s 2ms/step - loss: 0.1945 - accuracy: 0.9355 - val_loss: 0.2512 - val_accuracy: 0.9339\n",
            "Epoch 34/200\n",
            "11200/11200 [==============================] - 22s 2ms/step - loss: 0.1951 - accuracy: 0.9363 - val_loss: 0.2006 - val_accuracy: 0.9359\n",
            "Epoch 35/200\n",
            "11200/11200 [==============================] - 22s 2ms/step - loss: 0.1948 - accuracy: 0.9367 - val_loss: 0.1868 - val_accuracy: 0.9384\n",
            "Epoch 36/200\n",
            "11200/11200 [==============================] - 20s 2ms/step - loss: 0.1957 - accuracy: 0.9359 - val_loss: 0.2857 - val_accuracy: 0.9337\n",
            "Epoch 37/200\n",
            "11200/11200 [==============================] - 19s 2ms/step - loss: 0.1963 - accuracy: 0.9369 - val_loss: 0.1877 - val_accuracy: 0.9340\n",
            "Epoch 38/200\n",
            "11200/11200 [==============================] - 19s 2ms/step - loss: 0.1966 - accuracy: 0.9360 - val_loss: 0.2036 - val_accuracy: 0.9408\n",
            "Epoch 39/200\n",
            "11200/11200 [==============================] - 22s 2ms/step - loss: 0.1963 - accuracy: 0.9360 - val_loss: 0.1984 - val_accuracy: 0.9393\n",
            "Epoch 40/200\n",
            "11200/11200 [==============================] - 19s 2ms/step - loss: 0.1960 - accuracy: 0.9363 - val_loss: 0.1836 - val_accuracy: 0.9397\n",
            "Epoch 41/200\n",
            "11200/11200 [==============================] - 22s 2ms/step - loss: 0.1961 - accuracy: 0.9357 - val_loss: 0.2386 - val_accuracy: 0.9409\n",
            "Epoch 42/200\n",
            "11200/11200 [==============================] - 20s 2ms/step - loss: 0.1954 - accuracy: 0.9363 - val_loss: 0.1916 - val_accuracy: 0.9387\n",
            "Epoch 43/200\n",
            "11200/11200 [==============================] - 22s 2ms/step - loss: 0.1958 - accuracy: 0.9362 - val_loss: 0.1914 - val_accuracy: 0.9353\n",
            "Epoch 44/200\n",
            "11200/11200 [==============================] - 22s 2ms/step - loss: 0.1963 - accuracy: 0.9365 - val_loss: 0.1810 - val_accuracy: 0.9399\n",
            "Epoch 45/200\n",
            "11200/11200 [==============================] - 22s 2ms/step - loss: 0.1963 - accuracy: 0.9364 - val_loss: 0.1892 - val_accuracy: 0.9383\n",
            "Epoch 46/200\n",
            "11200/11200 [==============================] - 22s 2ms/step - loss: 0.1973 - accuracy: 0.9363 - val_loss: 0.1949 - val_accuracy: 0.9395\n",
            "Epoch 47/200\n",
            "11200/11200 [==============================] - 22s 2ms/step - loss: 0.2001 - accuracy: 0.9355 - val_loss: 0.1891 - val_accuracy: 0.9390\n",
            "Epoch 48/200\n",
            "11200/11200 [==============================] - 22s 2ms/step - loss: 0.1980 - accuracy: 0.9359 - val_loss: 0.1851 - val_accuracy: 0.9389\n",
            "Epoch 49/200\n",
            "11200/11200 [==============================] - 22s 2ms/step - loss: 0.1968 - accuracy: 0.9363 - val_loss: 0.1824 - val_accuracy: 0.9394\n",
            "Epoch 50/200\n",
            "11200/11200 [==============================] - 19s 2ms/step - loss: 0.1950 - accuracy: 0.9360 - val_loss: 0.2059 - val_accuracy: 0.9388\n",
            "Epoch 51/200\n",
            "11200/11200 [==============================] - 22s 2ms/step - loss: 0.1945 - accuracy: 0.9368 - val_loss: 0.1814 - val_accuracy: 0.9413\n",
            "Epoch 52/200\n",
            "11200/11200 [==============================] - 22s 2ms/step - loss: 0.1941 - accuracy: 0.9374 - val_loss: 0.2116 - val_accuracy: 0.9383\n",
            "Epoch 53/200\n",
            "11200/11200 [==============================] - 22s 2ms/step - loss: 0.1952 - accuracy: 0.9365 - val_loss: 0.1894 - val_accuracy: 0.9415\n",
            "Epoch 54/200\n",
            "11200/11200 [==============================] - 19s 2ms/step - loss: 0.1994 - accuracy: 0.9359 - val_loss: 0.1844 - val_accuracy: 0.9397\n",
            "Epoch 55/200\n",
            "11200/11200 [==============================] - 22s 2ms/step - loss: 0.1956 - accuracy: 0.9367 - val_loss: 0.1843 - val_accuracy: 0.9406\n",
            "Epoch 56/200\n",
            "11200/11200 [==============================] - 20s 2ms/step - loss: 0.1961 - accuracy: 0.9367 - val_loss: 0.1833 - val_accuracy: 0.9413\n",
            "Epoch 57/200\n",
            "11200/11200 [==============================] - 22s 2ms/step - loss: 0.1952 - accuracy: 0.9369 - val_loss: 0.1990 - val_accuracy: 0.9382\n",
            "Epoch 58/200\n",
            "11200/11200 [==============================] - 22s 2ms/step - loss: 0.1964 - accuracy: 0.9366 - val_loss: 0.1800 - val_accuracy: 0.9411\n",
            "Epoch 59/200\n",
            "11200/11200 [==============================] - 19s 2ms/step - loss: 0.1966 - accuracy: 0.9363 - val_loss: 0.1822 - val_accuracy: 0.9400\n",
            "Epoch 60/200\n",
            "11200/11200 [==============================] - 22s 2ms/step - loss: 0.1964 - accuracy: 0.9365 - val_loss: 0.1807 - val_accuracy: 0.9413\n",
            "Epoch 61/200\n",
            "11200/11200 [==============================] - 22s 2ms/step - loss: 0.1965 - accuracy: 0.9366 - val_loss: 0.1947 - val_accuracy: 0.9398\n",
            "Epoch 62/200\n",
            "11200/11200 [==============================] - 21s 2ms/step - loss: 0.1964 - accuracy: 0.9368 - val_loss: 0.1821 - val_accuracy: 0.9402\n",
            "Epoch 63/200\n",
            "11200/11200 [==============================] - 22s 2ms/step - loss: 0.1959 - accuracy: 0.9367 - val_loss: 0.2211 - val_accuracy: 0.9386\n",
            "Epoch 64/200\n",
            "11200/11200 [==============================] - 20s 2ms/step - loss: 0.1964 - accuracy: 0.9361 - val_loss: 0.2018 - val_accuracy: 0.9362\n",
            "Epoch 65/200\n",
            "11200/11200 [==============================] - 19s 2ms/step - loss: 0.1961 - accuracy: 0.9373 - val_loss: 0.1810 - val_accuracy: 0.9398\n",
            "Epoch 66/200\n",
            "11200/11200 [==============================] - 22s 2ms/step - loss: 0.1964 - accuracy: 0.9372 - val_loss: 0.1913 - val_accuracy: 0.9383\n",
            "Epoch 67/200\n",
            "11200/11200 [==============================] - 20s 2ms/step - loss: 0.1960 - accuracy: 0.9363 - val_loss: 0.2036 - val_accuracy: 0.9416\n",
            "Epoch 68/200\n",
            "11200/11200 [==============================] - 22s 2ms/step - loss: 0.1956 - accuracy: 0.9376 - val_loss: 0.1801 - val_accuracy: 0.9412\n",
            "Epoch 69/200\n",
            "11200/11200 [==============================] - 19s 2ms/step - loss: 0.1955 - accuracy: 0.9364 - val_loss: 0.1871 - val_accuracy: 0.9392\n",
            "Epoch 70/200\n",
            "11200/11200 [==============================] - 22s 2ms/step - loss: 0.1957 - accuracy: 0.9373 - val_loss: 0.1986 - val_accuracy: 0.9379\n",
            "Epoch 71/200\n",
            "11200/11200 [==============================] - 22s 2ms/step - loss: 0.1958 - accuracy: 0.9373 - val_loss: 0.1821 - val_accuracy: 0.9415\n",
            "Epoch 72/200\n",
            "11200/11200 [==============================] - 22s 2ms/step - loss: 0.1959 - accuracy: 0.9370 - val_loss: 0.2038 - val_accuracy: 0.9394\n",
            "Epoch 73/200\n",
            "11200/11200 [==============================] - 22s 2ms/step - loss: 0.1955 - accuracy: 0.9372 - val_loss: 0.1818 - val_accuracy: 0.9355\n",
            "Epoch 74/200\n",
            "11200/11200 [==============================] - 20s 2ms/step - loss: 0.1961 - accuracy: 0.9377 - val_loss: 0.1808 - val_accuracy: 0.9413\n",
            "Epoch 75/200\n",
            "11200/11200 [==============================] - 23s 2ms/step - loss: 0.1962 - accuracy: 0.9365 - val_loss: 0.1815 - val_accuracy: 0.9417\n",
            "Epoch 76/200\n",
            "11200/11200 [==============================] - 23s 2ms/step - loss: 0.1961 - accuracy: 0.9372 - val_loss: 0.1868 - val_accuracy: 0.9394\n",
            "Epoch 77/200\n",
            "11200/11200 [==============================] - 20s 2ms/step - loss: 0.1960 - accuracy: 0.9371 - val_loss: 0.1884 - val_accuracy: 0.9404\n",
            "Epoch 78/200\n",
            "11200/11200 [==============================] - 20s 2ms/step - loss: 0.1970 - accuracy: 0.9376 - val_loss: 0.2185 - val_accuracy: 0.9348\n",
            "Epoch 79/200\n",
            "11200/11200 [==============================] - 22s 2ms/step - loss: 0.1971 - accuracy: 0.9371 - val_loss: 0.2080 - val_accuracy: 0.9388\n",
            "Epoch 80/200\n",
            "11200/11200 [==============================] - 23s 2ms/step - loss: 0.1971 - accuracy: 0.9368 - val_loss: 0.1816 - val_accuracy: 0.9367\n",
            "Epoch 81/200\n",
            "11200/11200 [==============================] - 23s 2ms/step - loss: 0.1981 - accuracy: 0.9367 - val_loss: 0.1986 - val_accuracy: 0.9385\n",
            "Epoch 82/200\n",
            "11200/11200 [==============================] - 23s 2ms/step - loss: 0.1975 - accuracy: 0.9370 - val_loss: 0.1821 - val_accuracy: 0.9386\n",
            "Epoch 83/200\n",
            "11200/11200 [==============================] - 23s 2ms/step - loss: 0.1973 - accuracy: 0.9367 - val_loss: 0.1822 - val_accuracy: 0.9399\n",
            "Epoch 84/200\n",
            "11200/11200 [==============================] - 20s 2ms/step - loss: 0.1976 - accuracy: 0.9367 - val_loss: 0.1909 - val_accuracy: 0.9396\n",
            "Epoch 85/200\n",
            "11200/11200 [==============================] - 23s 2ms/step - loss: 0.1976 - accuracy: 0.9371 - val_loss: 0.1772 - val_accuracy: 0.9414\n",
            "Epoch 86/200\n",
            "11200/11200 [==============================] - 23s 2ms/step - loss: 0.1970 - accuracy: 0.9371 - val_loss: 0.2520 - val_accuracy: 0.9380\n",
            "Epoch 87/200\n",
            "11200/11200 [==============================] - 25s 2ms/step - loss: 0.1980 - accuracy: 0.9369 - val_loss: 0.1909 - val_accuracy: 0.9375\n",
            "Epoch 88/200\n",
            "11200/11200 [==============================] - 22s 2ms/step - loss: 0.1965 - accuracy: 0.9369 - val_loss: 0.1798 - val_accuracy: 0.9407\n",
            "Epoch 89/200\n",
            "11200/11200 [==============================] - 22s 2ms/step - loss: 0.1970 - accuracy: 0.9373 - val_loss: 0.1963 - val_accuracy: 0.9390\n",
            "Epoch 90/200\n",
            "11200/11200 [==============================] - 27s 2ms/step - loss: 0.1976 - accuracy: 0.9366 - val_loss: 0.1790 - val_accuracy: 0.9406\n",
            "Epoch 91/200\n",
            "11200/11200 [==============================] - 23s 2ms/step - loss: 0.1963 - accuracy: 0.9362 - val_loss: 0.1976 - val_accuracy: 0.9405\n",
            "Epoch 92/200\n",
            "11200/11200 [==============================] - 20s 2ms/step - loss: 0.1990 - accuracy: 0.9370 - val_loss: 0.1966 - val_accuracy: 0.9408\n",
            "Epoch 93/200\n",
            "11200/11200 [==============================] - 20s 2ms/step - loss: 0.1987 - accuracy: 0.9370 - val_loss: 0.1827 - val_accuracy: 0.9421\n",
            "Epoch 94/200\n",
            "11200/11200 [==============================] - 23s 2ms/step - loss: 0.1981 - accuracy: 0.9370 - val_loss: 0.1826 - val_accuracy: 0.9397\n",
            "Epoch 95/200\n",
            "11200/11200 [==============================] - 23s 2ms/step - loss: 0.1978 - accuracy: 0.9370 - val_loss: 0.1935 - val_accuracy: 0.9392\n",
            "Epoch 96/200\n",
            "11200/11200 [==============================] - 21s 2ms/step - loss: 0.1978 - accuracy: 0.9374 - val_loss: 0.1790 - val_accuracy: 0.9425\n",
            "Epoch 97/200\n",
            "11200/11200 [==============================] - 23s 2ms/step - loss: 0.1977 - accuracy: 0.9369 - val_loss: 0.1847 - val_accuracy: 0.9408\n",
            "Epoch 98/200\n",
            "11200/11200 [==============================] - 22s 2ms/step - loss: 0.1972 - accuracy: 0.9369 - val_loss: 0.1824 - val_accuracy: 0.9366\n",
            "Epoch 99/200\n",
            "11200/11200 [==============================] - 23s 2ms/step - loss: 0.1967 - accuracy: 0.9364 - val_loss: 0.2037 - val_accuracy: 0.9385\n",
            "Epoch 100/200\n",
            "11200/11200 [==============================] - 24s 2ms/step - loss: 0.1968 - accuracy: 0.9372 - val_loss: 0.1889 - val_accuracy: 0.9359\n",
            "Epoch 101/200\n",
            "11200/11200 [==============================] - 23s 2ms/step - loss: 0.1965 - accuracy: 0.9367 - val_loss: 0.1796 - val_accuracy: 0.9394\n",
            "Epoch 102/200\n",
            "11200/11200 [==============================] - 21s 2ms/step - loss: 0.1964 - accuracy: 0.9360 - val_loss: 0.1873 - val_accuracy: 0.9399\n",
            "Epoch 103/200\n",
            "11200/11200 [==============================] - 21s 2ms/step - loss: 0.1967 - accuracy: 0.9368 - val_loss: 0.1994 - val_accuracy: 0.9421\n",
            "Epoch 104/200\n",
            "11200/11200 [==============================] - 20s 2ms/step - loss: 0.1972 - accuracy: 0.9367 - val_loss: 0.1872 - val_accuracy: 0.9361\n",
            "Epoch 105/200\n",
            "11200/11200 [==============================] - 21s 2ms/step - loss: 0.1969 - accuracy: 0.9372 - val_loss: 0.1877 - val_accuracy: 0.9375\n",
            "Epoch 106/200\n",
            "11200/11200 [==============================] - 23s 2ms/step - loss: 0.1977 - accuracy: 0.9370 - val_loss: 0.1918 - val_accuracy: 0.9408\n",
            "Epoch 107/200\n",
            "11200/11200 [==============================] - 23s 2ms/step - loss: 0.1967 - accuracy: 0.9371 - val_loss: 0.1929 - val_accuracy: 0.9409\n",
            "Epoch 108/200\n",
            "11200/11200 [==============================] - 20s 2ms/step - loss: 0.1975 - accuracy: 0.9376 - val_loss: 0.1801 - val_accuracy: 0.9384\n",
            "Epoch 109/200\n",
            "11200/11200 [==============================] - 23s 2ms/step - loss: 0.1971 - accuracy: 0.9364 - val_loss: 0.1830 - val_accuracy: 0.9402\n",
            "Epoch 110/200\n",
            "11200/11200 [==============================] - 20s 2ms/step - loss: 0.1969 - accuracy: 0.9375 - val_loss: 0.1901 - val_accuracy: 0.9361\n",
            "Epoch 111/200\n",
            "11200/11200 [==============================] - 20s 2ms/step - loss: 0.1972 - accuracy: 0.9366 - val_loss: 0.2174 - val_accuracy: 0.9348\n",
            "Epoch 112/200\n",
            "11200/11200 [==============================] - 23s 2ms/step - loss: 0.1981 - accuracy: 0.9369 - val_loss: 0.1834 - val_accuracy: 0.9402\n",
            "Epoch 113/200\n",
            "11200/11200 [==============================] - 22s 2ms/step - loss: 0.2009 - accuracy: 0.9366 - val_loss: 0.1888 - val_accuracy: 0.9398\n",
            "Epoch 114/200\n",
            "11200/11200 [==============================] - 23s 2ms/step - loss: 0.2008 - accuracy: 0.9359 - val_loss: 0.1982 - val_accuracy: 0.9403\n",
            "Epoch 115/200\n",
            "11200/11200 [==============================] - 20s 2ms/step - loss: 0.2016 - accuracy: 0.9358 - val_loss: 0.1886 - val_accuracy: 0.9411\n",
            "Epoch 116/200\n",
            "11200/11200 [==============================] - 22s 2ms/step - loss: 0.2029 - accuracy: 0.9360 - val_loss: 0.1942 - val_accuracy: 0.9369\n",
            "Epoch 117/200\n",
            "11200/11200 [==============================] - 20s 2ms/step - loss: 0.2042 - accuracy: 0.9365 - val_loss: 0.1905 - val_accuracy: 0.9401\n",
            "Epoch 118/200\n",
            "11200/11200 [==============================] - 24s 2ms/step - loss: 0.2035 - accuracy: 0.9357 - val_loss: 0.1982 - val_accuracy: 0.9404\n",
            "Epoch 119/200\n",
            "11200/11200 [==============================] - 23s 2ms/step - loss: 0.2040 - accuracy: 0.9353 - val_loss: 0.1975 - val_accuracy: 0.9393\n",
            "Epoch 120/200\n",
            "11200/11200 [==============================] - 21s 2ms/step - loss: 0.2048 - accuracy: 0.9356 - val_loss: 0.2495 - val_accuracy: 0.9374\n",
            "Epoch 121/200\n",
            "11200/11200 [==============================] - 21s 2ms/step - loss: 0.2037 - accuracy: 0.9357 - val_loss: 0.1912 - val_accuracy: 0.9401\n",
            "Epoch 122/200\n",
            "11200/11200 [==============================] - 21s 2ms/step - loss: 0.2046 - accuracy: 0.9361 - val_loss: 0.2170 - val_accuracy: 0.9389\n",
            "Epoch 123/200\n",
            "11200/11200 [==============================] - 23s 2ms/step - loss: 0.2105 - accuracy: 0.9354 - val_loss: 0.2373 - val_accuracy: 0.9392\n",
            "Epoch 124/200\n",
            "11200/11200 [==============================] - 21s 2ms/step - loss: 0.2045 - accuracy: 0.9354 - val_loss: 0.2196 - val_accuracy: 0.9392\n",
            "Epoch 125/200\n",
            "11200/11200 [==============================] - 21s 2ms/step - loss: 0.2074 - accuracy: 0.9353 - val_loss: 0.1948 - val_accuracy: 0.9341\n",
            "Epoch 126/200\n",
            "11200/11200 [==============================] - 22s 2ms/step - loss: 0.2035 - accuracy: 0.9355 - val_loss: 0.1830 - val_accuracy: 0.9389\n",
            "Epoch 127/200\n",
            "11200/11200 [==============================] - 22s 2ms/step - loss: 0.2093 - accuracy: 0.9357 - val_loss: 0.1938 - val_accuracy: 0.9388\n",
            "Epoch 128/200\n",
            "11200/11200 [==============================] - 24s 2ms/step - loss: 0.2054 - accuracy: 0.9353 - val_loss: 0.2001 - val_accuracy: 0.9392\n",
            "Epoch 129/200\n",
            "11200/11200 [==============================] - 24s 2ms/step - loss: 0.2070 - accuracy: 0.9354 - val_loss: 0.2548 - val_accuracy: 0.9395\n",
            "Epoch 130/200\n",
            "11200/11200 [==============================] - 21s 2ms/step - loss: 0.2065 - accuracy: 0.9361 - val_loss: 0.2303 - val_accuracy: 0.9397\n",
            "Epoch 131/200\n",
            "11200/11200 [==============================] - 23s 2ms/step - loss: 0.2056 - accuracy: 0.9364 - val_loss: 0.1896 - val_accuracy: 0.9394\n",
            "Epoch 132/200\n",
            "11200/11200 [==============================] - 24s 2ms/step - loss: 0.2053 - accuracy: 0.9360 - val_loss: 0.1944 - val_accuracy: 0.9396\n",
            "Epoch 133/200\n",
            "11200/11200 [==============================] - 26s 2ms/step - loss: 0.2071 - accuracy: 0.9360 - val_loss: 0.2024 - val_accuracy: 0.9383\n",
            "Epoch 134/200\n",
            "11200/11200 [==============================] - 25s 2ms/step - loss: 0.2066 - accuracy: 0.9364 - val_loss: 0.2013 - val_accuracy: 0.9375\n",
            "Epoch 135/200\n",
            "11200/11200 [==============================] - 21s 2ms/step - loss: 0.2083 - accuracy: 0.9363 - val_loss: 0.1909 - val_accuracy: 0.9404\n",
            "Epoch 136/200\n",
            "11200/11200 [==============================] - 24s 2ms/step - loss: 0.2061 - accuracy: 0.9368 - val_loss: 0.1949 - val_accuracy: 0.9383\n",
            "Epoch 137/200\n",
            "11200/11200 [==============================] - 22s 2ms/step - loss: 0.2080 - accuracy: 0.9372 - val_loss: 0.1927 - val_accuracy: 0.9409\n",
            "Epoch 138/200\n",
            "11200/11200 [==============================] - 22s 2ms/step - loss: 0.2146 - accuracy: 0.9368 - val_loss: 0.2071 - val_accuracy: 0.9399\n",
            "Epoch 139/200\n",
            "11200/11200 [==============================] - 22s 2ms/step - loss: 0.2126 - accuracy: 0.9371 - val_loss: 0.2030 - val_accuracy: 0.9403\n",
            "Epoch 140/200\n",
            "11200/11200 [==============================] - 22s 2ms/step - loss: 0.2112 - accuracy: 0.9366 - val_loss: 0.3096 - val_accuracy: 0.9392\n",
            "Epoch 141/200\n",
            "11200/11200 [==============================] - 22s 2ms/step - loss: 0.2135 - accuracy: 0.9365 - val_loss: 0.1839 - val_accuracy: 0.9407\n",
            "Epoch 142/200\n",
            "11200/11200 [==============================] - 22s 2ms/step - loss: 0.2105 - accuracy: 0.9367 - val_loss: 0.2201 - val_accuracy: 0.9389\n",
            "Epoch 143/200\n",
            "11200/11200 [==============================] - 22s 2ms/step - loss: 0.2139 - accuracy: 0.9363 - val_loss: 0.2654 - val_accuracy: 0.9344\n",
            "Epoch 144/200\n",
            "11200/11200 [==============================] - 24s 2ms/step - loss: 0.2120 - accuracy: 0.9368 - val_loss: 0.2038 - val_accuracy: 0.9381\n",
            "Epoch 145/200\n",
            "11200/11200 [==============================] - 26s 2ms/step - loss: 0.2158 - accuracy: 0.9367 - val_loss: 0.2845 - val_accuracy: 0.9376\n",
            "Epoch 146/200\n",
            "11200/11200 [==============================] - 25s 2ms/step - loss: 0.2221 - accuracy: 0.9369 - val_loss: 0.2094 - val_accuracy: 0.9416\n",
            "Epoch 147/200\n",
            "11200/11200 [==============================] - 24s 2ms/step - loss: 0.2138 - accuracy: 0.9370 - val_loss: 0.1876 - val_accuracy: 0.9412\n",
            "Epoch 148/200\n",
            "11200/11200 [==============================] - 22s 2ms/step - loss: 0.2110 - accuracy: 0.9370 - val_loss: 0.2087 - val_accuracy: 0.9417\n",
            "Epoch 149/200\n",
            "11200/11200 [==============================] - 22s 2ms/step - loss: 0.2112 - accuracy: 0.9373 - val_loss: 0.1855 - val_accuracy: 0.9416\n",
            "Epoch 150/200\n",
            "11200/11200 [==============================] - 22s 2ms/step - loss: 0.2117 - accuracy: 0.9372 - val_loss: 0.2314 - val_accuracy: 0.9380\n",
            "Epoch 151/200\n",
            "11200/11200 [==============================] - 24s 2ms/step - loss: 0.2145 - accuracy: 0.9370 - val_loss: 0.2029 - val_accuracy: 0.9405\n",
            "Epoch 152/200\n",
            "11200/11200 [==============================] - 23s 2ms/step - loss: 0.2201 - accuracy: 0.9368 - val_loss: 0.2102 - val_accuracy: 0.9365\n",
            "Epoch 153/200\n",
            "11200/11200 [==============================] - 21s 2ms/step - loss: 0.2078 - accuracy: 0.9368 - val_loss: 0.2111 - val_accuracy: 0.9411\n",
            "Epoch 154/200\n",
            "11200/11200 [==============================] - 22s 2ms/step - loss: 0.2165 - accuracy: 0.9365 - val_loss: 0.2104 - val_accuracy: 0.9338\n",
            "Epoch 155/200\n",
            "11200/11200 [==============================] - 24s 2ms/step - loss: 0.2100 - accuracy: 0.9362 - val_loss: 0.2007 - val_accuracy: 0.9402\n",
            "Epoch 156/200\n",
            "11200/11200 [==============================] - 25s 2ms/step - loss: 0.2148 - accuracy: 0.9368 - val_loss: 0.2155 - val_accuracy: 0.9407\n",
            "Epoch 157/200\n",
            "11200/11200 [==============================] - 24s 2ms/step - loss: 0.2115 - accuracy: 0.9366 - val_loss: 0.1939 - val_accuracy: 0.9404\n",
            "Epoch 158/200\n",
            "11200/11200 [==============================] - 25s 2ms/step - loss: 0.2137 - accuracy: 0.9362 - val_loss: 0.2121 - val_accuracy: 0.9414\n",
            "Epoch 159/200\n",
            "11200/11200 [==============================] - 22s 2ms/step - loss: 0.2175 - accuracy: 0.9366 - val_loss: 0.2115 - val_accuracy: 0.9396\n",
            "Epoch 160/200\n",
            "11200/11200 [==============================] - 24s 2ms/step - loss: 0.2107 - accuracy: 0.9364 - val_loss: 0.1927 - val_accuracy: 0.9410\n",
            "Epoch 161/200\n",
            "11200/11200 [==============================] - 22s 2ms/step - loss: 0.2112 - accuracy: 0.9369 - val_loss: 0.2005 - val_accuracy: 0.9402\n",
            "Epoch 162/200\n",
            "11200/11200 [==============================] - 23s 2ms/step - loss: 0.2108 - accuracy: 0.9369 - val_loss: 0.2081 - val_accuracy: 0.9395\n",
            "Epoch 163/200\n",
            "11200/11200 [==============================] - 25s 2ms/step - loss: 0.2091 - accuracy: 0.9368 - val_loss: 0.2271 - val_accuracy: 0.9295\n",
            "Epoch 164/200\n",
            "11200/11200 [==============================] - 22s 2ms/step - loss: 0.2072 - accuracy: 0.9370 - val_loss: 0.1999 - val_accuracy: 0.9368\n",
            "Epoch 165/200\n",
            "11200/11200 [==============================] - 24s 2ms/step - loss: 0.2143 - accuracy: 0.9367 - val_loss: 0.2151 - val_accuracy: 0.9405\n",
            "Epoch 166/200\n",
            "11200/11200 [==============================] - 23s 2ms/step - loss: 0.2153 - accuracy: 0.9372 - val_loss: 0.2665 - val_accuracy: 0.9327\n",
            "Epoch 167/200\n",
            "11200/11200 [==============================] - 24s 2ms/step - loss: 0.2152 - accuracy: 0.9364 - val_loss: 0.1943 - val_accuracy: 0.9383\n",
            "Epoch 168/200\n",
            "11200/11200 [==============================] - 24s 2ms/step - loss: 0.2097 - accuracy: 0.9367 - val_loss: 0.2118 - val_accuracy: 0.9400\n",
            "Epoch 169/200\n",
            "11200/11200 [==============================] - 24s 2ms/step - loss: 0.2209 - accuracy: 0.9369 - val_loss: 0.1950 - val_accuracy: 0.9409\n",
            "Epoch 170/200\n",
            "11200/11200 [==============================] - 22s 2ms/step - loss: 0.2215 - accuracy: 0.9365 - val_loss: 0.2203 - val_accuracy: 0.9404\n",
            "Epoch 171/200\n",
            "11200/11200 [==============================] - 23s 2ms/step - loss: 0.2126 - accuracy: 0.9367 - val_loss: 0.1966 - val_accuracy: 0.9404\n",
            "Epoch 172/200\n",
            "11200/11200 [==============================] - 21s 2ms/step - loss: 0.2163 - accuracy: 0.9368 - val_loss: 0.2181 - val_accuracy: 0.9404\n",
            "Epoch 173/200\n",
            "11200/11200 [==============================] - 22s 2ms/step - loss: 0.2142 - accuracy: 0.9366 - val_loss: 0.1841 - val_accuracy: 0.9406\n",
            "Epoch 174/200\n",
            "11200/11200 [==============================] - 24s 2ms/step - loss: 0.2115 - accuracy: 0.9363 - val_loss: 0.2385 - val_accuracy: 0.9420\n",
            "Epoch 175/200\n",
            "11200/11200 [==============================] - 24s 2ms/step - loss: 0.2146 - accuracy: 0.9369 - val_loss: 0.2535 - val_accuracy: 0.9419\n",
            "Epoch 176/200\n",
            "11200/11200 [==============================] - 21s 2ms/step - loss: 0.2149 - accuracy: 0.9374 - val_loss: 0.1996 - val_accuracy: 0.9414\n",
            "Epoch 177/200\n",
            "11200/11200 [==============================] - 21s 2ms/step - loss: 0.2136 - accuracy: 0.9374 - val_loss: 0.1942 - val_accuracy: 0.9406\n",
            "Epoch 178/200\n",
            "11200/11200 [==============================] - 21s 2ms/step - loss: 0.2128 - accuracy: 0.9376 - val_loss: 0.2545 - val_accuracy: 0.9401\n",
            "Epoch 179/200\n",
            "11200/11200 [==============================] - 21s 2ms/step - loss: 0.2237 - accuracy: 0.9365 - val_loss: 0.2128 - val_accuracy: 0.9399\n",
            "Epoch 180/200\n",
            "11200/11200 [==============================] - 21s 2ms/step - loss: 0.2253 - accuracy: 0.9366 - val_loss: 0.2275 - val_accuracy: 0.9348\n",
            "Epoch 181/200\n",
            "11200/11200 [==============================] - 24s 2ms/step - loss: 0.2240 - accuracy: 0.9359 - val_loss: 0.2700 - val_accuracy: 0.9393\n",
            "Epoch 182/200\n",
            "11200/11200 [==============================] - 24s 2ms/step - loss: 0.2279 - accuracy: 0.9360 - val_loss: 0.2218 - val_accuracy: 0.9316\n",
            "Epoch 183/200\n",
            "11200/11200 [==============================] - 22s 2ms/step - loss: 0.2271 - accuracy: 0.9351 - val_loss: 0.2255 - val_accuracy: 0.9393\n",
            "Epoch 184/200\n",
            "11200/11200 [==============================] - 22s 2ms/step - loss: 0.2235 - accuracy: 0.9344 - val_loss: 0.2029 - val_accuracy: 0.9395\n",
            "Epoch 185/200\n",
            "11200/11200 [==============================] - 25s 2ms/step - loss: 0.2211 - accuracy: 0.9345 - val_loss: 0.2093 - val_accuracy: 0.9383\n",
            "Epoch 186/200\n",
            "11200/11200 [==============================] - 23s 2ms/step - loss: 0.2167 - accuracy: 0.9349 - val_loss: 0.2252 - val_accuracy: 0.9377\n",
            "Epoch 187/200\n",
            "11200/11200 [==============================] - 24s 2ms/step - loss: 0.2137 - accuracy: 0.9349 - val_loss: 0.2216 - val_accuracy: 0.9386\n",
            "Epoch 188/200\n",
            "11200/11200 [==============================] - 22s 2ms/step - loss: 0.2131 - accuracy: 0.9348 - val_loss: 0.1910 - val_accuracy: 0.9380\n",
            "Epoch 189/200\n",
            "11200/11200 [==============================] - 25s 2ms/step - loss: 0.2190 - accuracy: 0.9347 - val_loss: 0.3846 - val_accuracy: 0.9371\n",
            "Epoch 190/200\n",
            "11200/11200 [==============================] - 24s 2ms/step - loss: 0.2148 - accuracy: 0.9349 - val_loss: 0.2299 - val_accuracy: 0.9391\n",
            "Epoch 191/200\n",
            "11200/11200 [==============================] - 24s 2ms/step - loss: 0.2126 - accuracy: 0.9345 - val_loss: 0.2151 - val_accuracy: 0.9386\n",
            "Epoch 192/200\n",
            "11200/11200 [==============================] - 24s 2ms/step - loss: 0.2134 - accuracy: 0.9349 - val_loss: 0.1969 - val_accuracy: 0.9391\n",
            "Epoch 193/200\n",
            "11200/11200 [==============================] - 24s 2ms/step - loss: 0.2135 - accuracy: 0.9350 - val_loss: 0.2077 - val_accuracy: 0.9396\n",
            "Epoch 194/200\n",
            "11200/11200 [==============================] - 24s 2ms/step - loss: 0.2169 - accuracy: 0.9347 - val_loss: 0.1917 - val_accuracy: 0.9383\n",
            "Epoch 195/200\n",
            "11200/11200 [==============================] - 22s 2ms/step - loss: 0.2125 - accuracy: 0.9351 - val_loss: 0.1886 - val_accuracy: 0.9381\n",
            "Epoch 196/200\n",
            "11200/11200 [==============================] - 24s 2ms/step - loss: 0.2172 - accuracy: 0.9352 - val_loss: 0.2235 - val_accuracy: 0.9392\n",
            "Epoch 197/200\n",
            "11200/11200 [==============================] - 22s 2ms/step - loss: 0.2150 - accuracy: 0.9354 - val_loss: 0.1995 - val_accuracy: 0.9397\n",
            "Epoch 198/200\n",
            "11200/11200 [==============================] - 22s 2ms/step - loss: 0.2153 - accuracy: 0.9353 - val_loss: 0.2111 - val_accuracy: 0.9390\n",
            "Epoch 199/200\n",
            "11200/11200 [==============================] - 21s 2ms/step - loss: 0.2158 - accuracy: 0.9356 - val_loss: 0.2176 - val_accuracy: 0.9396\n",
            "Epoch 200/200\n",
            "11200/11200 [==============================] - 21s 2ms/step - loss: 0.2156 - accuracy: 0.9354 - val_loss: 0.2270 - val_accuracy: 0.9393\n"
          ]
        }
      ]
    },
    {
      "cell_type": "code",
      "source": [
        "model.evaluate(X_test, y_test)"
      ],
      "metadata": {
        "colab": {
          "base_uri": "https://localhost:8080/"
        },
        "id": "v88gA7jlBCBb",
        "outputId": "59e21ad7-a506-4581-ce13-4f6477fb3790"
      },
      "execution_count": null,
      "outputs": [
        {
          "output_type": "stream",
          "name": "stdout",
          "text": [
            "1875/1875 [==============================] - 4s 2ms/step - loss: 0.2404 - accuracy: 0.9376\n"
          ]
        },
        {
          "output_type": "execute_result",
          "data": {
            "text/plain": [
              "[0.240425705909729, 0.937583327293396]"
            ]
          },
          "metadata": {},
          "execution_count": 62
        }
      ]
    },
    {
      "cell_type": "code",
      "source": [
        "plt.plot(history.history['accuracy'])\n",
        "plt.plot(history.history['val_accuracy'])\n",
        "plt.title('Model Accuracy')\n",
        "plt.ylabel('accuracy')\n",
        "plt.xlabel('epoch')\n",
        "plt.legend(['Train', 'Validation'])\n",
        "plt.show()"
      ],
      "metadata": {
        "colab": {
          "base_uri": "https://localhost:8080/",
          "height": 295
        },
        "id": "0ueGvSXgBT6h",
        "outputId": "5cda7b6f-5576-4f32-bc2a-893ddd3d92c3"
      },
      "execution_count": null,
      "outputs": [
        {
          "output_type": "display_data",
          "data": {
            "text/plain": [
              "<Figure size 432x288 with 1 Axes>"
            ],
            "image/png": "[encoded data removed]"
          },
          "metadata": {
            "needs_background": "light"
          }
        }
      ]
    },
    {
      "cell_type": "code",
      "source": [
        "plt.plot(history.history['loss'])\n",
        "plt.plot(history.history['val_loss'])\n",
        "plt.title('Model Loss')\n",
        "plt.ylabel('loss')\n",
        "plt.xlabel('epoch')\n",
        "plt.legend(['Train', 'Validation'])\n",
        "plt.show()"
      ],
      "metadata": {
        "id": "3c172ddABaty",
        "outputId": "b95714f6-2de2-4442-f329-9a26ec29094e",
        "colab": {
          "base_uri": "https://localhost:8080/",
          "height": 295
        }
      },
      "execution_count": null,
      "outputs": [
        {
          "output_type": "display_data",
          "data": {
            "text/plain": [
              "<Figure size 432x288 with 1 Axes>"
            ],
            "image/png": "[encoded data removed]"
          },
          "metadata": {
            "needs_background": "light"
          }
        }
      ]
    },
    {
      "cell_type": "markdown",
      "source": [
        "## Recommendations"
      ],
      "metadata": {
        "id": "PFWelThSmHsD"
      }
    },
    {
      "cell_type": "markdown",
      "source": [
        "1. We recommend to the World Health Organization (WHO)to test people with flu like symptoms, head-aches and fever should be tested for COVID-19 \n",
        "2. People with the observed symptoms should isolate themselves as per the WHO requirements to prevent the spread of the virus.\n",
        "3. More features should be used to investigate the target variable. More global data may help narrow down specific symptoms\n",
        "4. The public health department should organize regular campaigns and educate the public on the spread and the latest symptoms released by the WHO. Vaccination drives should also be organized and doses be distributed as per the WHO healthcare guidelines.\n",
        "5. It is advisable to encourage people to seek clinical tests instead of self-medicating after matching symptoms with an infected patient.\n"
      ],
      "metadata": {
        "id": "g8VlEzpFnY-F"
      }
    }
  ],
  "metadata": {
    "colab": {
      "collapsed_sections": [],
      "name": "RNN COVID PREDICTION.ipynb",
      "provenance": [],
      "toc_visible": true,
      "include_colab_link": true
    },
    "kernelspec": {
      "display_name": "Python 3",
      "name": "python3"
    },
    "language_info": {
      "name": "python"
    }
  },
  "nbformat": 4,
  "nbformat_minor": 0
}